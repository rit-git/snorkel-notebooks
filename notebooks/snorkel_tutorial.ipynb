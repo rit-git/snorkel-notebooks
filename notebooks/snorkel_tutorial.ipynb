{
 "cells": [
  {
   "cell_type": "markdown",
   "metadata": {},
   "source": [
    "Import necessary libraries:"
   ]
  },
  {
   "cell_type": "code",
   "execution_count": 1,
   "metadata": {},
   "outputs": [
    {
     "name": "stderr",
     "output_type": "stream",
     "text": [
      "[nltk_data] Downloading package punkt to\n",
      "[nltk_data]     /Users/nofarcarmeli/nltk_data...\n",
      "[nltk_data]   Package punkt is already up-to-date!\n",
      "[nltk_data] Downloading package vader_lexicon to\n",
      "[nltk_data]     /Users/nofarcarmeli/nltk_data...\n",
      "[nltk_data]   Package vader_lexicon is already up-to-date!\n"
     ]
    },
    {
     "data": {
      "text/plain": [
       "True"
      ]
     },
     "execution_count": 1,
     "metadata": {},
     "output_type": "execute_result"
    }
   ],
   "source": [
    "import sys\n",
    "sys.path.append(\"..\")\n",
    "from data.preparer import load_news_dataset\n",
    "from datetime import datetime\n",
    "from snorkel.labeling import filter_unlabeled_dataframe\n",
    "from snorkel.labeling import labeling_function\n",
    "from snorkel.labeling import LabelModel\n",
    "from snorkel.labeling import LFAnalysis\n",
    "from snorkel.labeling import PandasLFApplier\n",
    "from analyzer import train_model\n",
    "import re\n",
    "import pandas as pd\n",
    "pd.set_option('display.max_colwidth', -1)\n",
    "stat_history = pd.DataFrame()\n",
    "import nltk\n",
    "nltk.download(\"punkt\")\n",
    "nltk.download('vader_lexicon')"
   ]
  },
  {
   "cell_type": "code",
   "execution_count": 2,
   "metadata": {},
   "outputs": [],
   "source": [
    "# Unzip the data. (Don't worry about this, it should be already unzipped.)\n",
    "# Replace PASSWORD with the password to unzip the data, or download it directly from Kaggle.\n",
    "\n",
    "#!unzip -P PASSWORD data/data.zip"
   ]
  },
  {
   "cell_type": "code",
   "execution_count": 3,
   "metadata": {},
   "outputs": [
    {
     "name": "stdout",
     "output_type": "stream",
     "text": [
      "477 training examples\n",
      "400 development examples\n",
      "100 validation examples\n",
      "400 test examples\n"
     ]
    },
    {
     "name": "stderr",
     "output_type": "stream",
     "text": [
      "/Users/nofarcarmeli/Documents/GitHub/snorkel-notebooks/venv/lib/python3.7/site-packages/pandas/core/frame.py:3940: SettingWithCopyWarning: \n",
      "A value is trying to be set on a copy of a slice from a DataFrame\n",
      "\n",
      "See the caveats in the documentation: http://pandas.pydata.org/pandas-docs/stable/indexing.html#indexing-view-versus-copy\n",
      "  errors=errors)\n"
     ]
    }
   ],
   "source": [
    "# load the data\n",
    "df_train, df_dev, df_valid, df_test = load_news_dataset()\n",
    "print(\"{} training examples\".format(len(df_train)))\n",
    "print(\"{} development examples\".format(len(df_dev)))\n",
    "print(\"{} validation examples\".format(len(df_valid)))\n",
    "print(\"{} test examples\".format(len(df_dev)))"
   ]
  },
  {
   "cell_type": "markdown",
   "metadata": {},
   "source": [
    "# Snorkel Tutorial\n",
    "\n",
    "## News forum classification\n",
    "\n",
    "### You will work with a subset of the 20 NewsGroup dataset. \n",
    "The texts shown are from one of two forums:\n",
    " 1. Computer Electronics (Label 0)\n",
    " 2. Gun Politics Forum (Label 1)\n",
    "Your job is to create a training data set to classify texts as belonging to one of these two forums.\n",
    "\n",
    "You will do this by writing labeling functions mapping text to 0 (ELECTRONICS), 1 (GUNS), or -1 (ABSTAIN or no label).\n",
    "These functions will be aggregated by Snorkel to create training data from unlabeled examples.\n",
    "\n",
    "You can evaluate your progress based on the coverage and f1 score of your label model, or by training a logistic regression classifier on the data and evaluating the test result.\n"
   ]
  },
  {
   "cell_type": "code",
   "execution_count": 4,
   "metadata": {},
   "outputs": [
    {
     "data": {
      "text/html": [
       "<div>\n",
       "<style scoped>\n",
       "    .dataframe tbody tr th:only-of-type {\n",
       "        vertical-align: middle;\n",
       "    }\n",
       "\n",
       "    .dataframe tbody tr th {\n",
       "        vertical-align: top;\n",
       "    }\n",
       "\n",
       "    .dataframe thead th {\n",
       "        text-align: right;\n",
       "    }\n",
       "</style>\n",
       "<table border=\"1\" class=\"dataframe\">\n",
       "  <thead>\n",
       "    <tr style=\"text-align: right;\">\n",
       "      <th></th>\n",
       "      <th>num_lfs</th>\n",
       "      <th>time</th>\n",
       "    </tr>\n",
       "  </thead>\n",
       "  <tbody>\n",
       "    <tr>\n",
       "      <th>0</th>\n",
       "      <td>0.0</td>\n",
       "      <td>2020-02-02 14:57:51.087355</td>\n",
       "    </tr>\n",
       "  </tbody>\n",
       "</table>\n",
       "</div>"
      ],
      "text/plain": [
       "   num_lfs                       time\n",
       "0  0.0     2020-02-02 14:57:51.087355"
      ]
     },
     "execution_count": 4,
     "metadata": {},
     "output_type": "execute_result"
    }
   ],
   "source": [
    "# Start the timer!\n",
    "stat_history.append({\"time\": datetime.now(), \"num_lfs\": 0}, ignore_index=True)"
   ]
  },
  {
   "cell_type": "markdown",
   "metadata": {},
   "source": [
    "Define the labels for this task:"
   ]
  },
  {
   "cell_type": "code",
   "execution_count": 5,
   "metadata": {},
   "outputs": [],
   "source": [
    "ABSTAIN = -1\n",
    "ELECTRONICS = 0\n",
    "GUNS = 1"
   ]
  },
  {
   "cell_type": "markdown",
   "metadata": {},
   "source": [
    "# Ready to Roll\n",
    "Let's look at some positive and negative examples."
   ]
  },
  {
   "cell_type": "code",
   "execution_count": 6,
   "metadata": {},
   "outputs": [
    {
     "name": "stdout",
     "output_type": "stream",
     "text": [
      "ELECTRONICS\n"
     ]
    },
    {
     "data": {
      "text/html": [
       "<div>\n",
       "<style scoped>\n",
       "    .dataframe tbody tr th:only-of-type {\n",
       "        vertical-align: middle;\n",
       "    }\n",
       "\n",
       "    .dataframe tbody tr th {\n",
       "        vertical-align: top;\n",
       "    }\n",
       "\n",
       "    .dataframe thead th {\n",
       "        text-align: right;\n",
       "    }\n",
       "</style>\n",
       "<table border=\"1\" class=\"dataframe\">\n",
       "  <thead>\n",
       "    <tr style=\"text-align: right;\">\n",
       "      <th></th>\n",
       "      <th>text</th>\n",
       "      <th>label</th>\n",
       "    </tr>\n",
       "  </thead>\n",
       "  <tbody>\n",
       "    <tr>\n",
       "      <th>429</th>\n",
       "      <td>Taft Electronics, 45th Street between 5th &amp; 6th -- the only one left in\\nwhat was once an entire district of electronics stores.  A little expensive.\\n\\nTrans-Am Electronics, Canal Street near 7th Ave -- lots of surplus type\\nstuff.\\n\\nSeveral other electronics or \"surplus\" type places are still on Canal\\nStreet.\\n\\nI think Bronx Wholesale Radio is still in business -- Fordham Road not\\ntoo far from Arthur Avenue in the Bronx.  Also in the Bronx is NorthEastern\\n(or was it Northwestern?  Northeast Electronics?) on Jerome Avenue near\\nBedford Park Boulevard.  They're mostly a TV parts supply house, but when\\nI was building CB radio projects, they were quite handy..</td>\n",
       "      <td>0</td>\n",
       "    </tr>\n",
       "    <tr>\n",
       "      <th>479</th>\n",
       "      <td>\\nDEC did this on their new alpha chip.  I'm sure you could call them up\\nand ask them how they did it (haha).\\n\\nActually, there are some details in their article in IEEE Journal of\\nSolid-State Circuits.  I think it was sometime around Nov.  1992.</td>\n",
       "      <td>0</td>\n",
       "    </tr>\n",
       "    <tr>\n",
       "      <th>453</th>\n",
       "      <td>Hello,\\n\\nHas anyone used the Requirements Analsys methodology Hatley &amp; Pirbhai ? I am\\na British final year real-time degree student, and as a project I am covering\\nthis methodology. I would be very grateful to anyone who could give me their\\nviews on this method. Please mail me if you feel you can help, and I will send\\nyou my questions.\\n\\nThanks in advance,</td>\n",
       "      <td>0</td>\n",
       "    </tr>\n",
       "    <tr>\n",
       "      <th>575</th>\n",
       "      <td>\\nRight. So all the cops will be buying antique muscle cars for chase cars;\\notherwise the *police* cars will die too!\\n\\n-----------------------------------------------------------------------\\n                    | To get the attention of a large animal, be it an\\n                    | elephant or a bureaucracy, it helps to know what\\nGeorge Patterson -  | part of it feels pain. Be very sure, though, that\\n                    | you want its full attention.\\n                    |                            Kelvin Throop</td>\n",
       "      <td>0</td>\n",
       "    </tr>\n",
       "    <tr>\n",
       "      <th>415</th>\n",
       "      <td>Just a few comments about the feasability of zipping up a bunch of miles\\non your electronic odometer with an oscillator....\\n\\n    I wouldn't expect to be able to do this.  Not because the engineers at BMW are\\nputting in anti-fraud logic, but just because an automobile is a noisy, hostile\\nenvironment for electronics, and I would expect the software to be conservative.\\n\\n   If I were to design a microprocessor-based odometer/speedometer program,\\nit would have the following features ( just off the top of my head ):\\n\\n         * Debouncing/deglitching  ( Is this a real pulse, or just a glitch? )\\n         * Smoothing:  The rate-of-change of speed cannot be too high:\\n                                This is a car, not an electron.\\n         *  Top speed limit:  Anything above 200MPH is ridiculous: must be\\n                                        electrical noise or contact bounce\\n\\n    As for getting in and presetting the pins:  if this is the circuit board out of\\na BMW dashboard, I seem to remember a single big chip with lotsa pins in the\\nmiddle of the card.  Good luck getting at the counter :-).\\n\\n    I wouldn't expect a high input frequency to damage the meter:  remember, it's\\nprobably damped so it can't move too fast, and is probably protected.  After all,\\na car is an extremely hostile place for delicate electronics;  there used to be an\\napp note in the National Semiconductor Linear Databook that went into this\\nin good detail.\\n\\n                               - Jerry Kaidor ( tr2!jerry@dragoman.com, jkaidor@synoptics.com )\\n</td>\n",
       "      <td>0</td>\n",
       "    </tr>\n",
       "  </tbody>\n",
       "</table>\n",
       "</div>"
      ],
      "text/plain": [
       "                                                                                                                                                                                                                                                                                                                                                                                                                                                                                                                                                                                                                                                                                                                                                                                                                                                                                                                                                                                                                                                                                                                                                                                                                                                                                                                                                                                                                                                                                                                                                                                                                              text  \\\n",
       "429  Taft Electronics, 45th Street between 5th & 6th -- the only one left in\\nwhat was once an entire district of electronics stores.  A little expensive.\\n\\nTrans-Am Electronics, Canal Street near 7th Ave -- lots of surplus type\\nstuff.\\n\\nSeveral other electronics or \"surplus\" type places are still on Canal\\nStreet.\\n\\nI think Bronx Wholesale Radio is still in business -- Fordham Road not\\ntoo far from Arthur Avenue in the Bronx.  Also in the Bronx is NorthEastern\\n(or was it Northwestern?  Northeast Electronics?) on Jerome Avenue near\\nBedford Park Boulevard.  They're mostly a TV parts supply house, but when\\nI was building CB radio projects, they were quite handy..                                                                                                                                                                                                                                                                                                                                                                                                                                                                                                                                                                                                                                                                                                                                                                                                                                                                                                                                \n",
       "479  \\nDEC did this on their new alpha chip.  I'm sure you could call them up\\nand ask them how they did it (haha).\\n\\nActually, there are some details in their article in IEEE Journal of\\nSolid-State Circuits.  I think it was sometime around Nov.  1992.                                                                                                                                                                                                                                                                                                                                                                                                                                                                                                                                                                                                                                                                                                                                                                                                                                                                                                                                                                                                                                                                                                                                                                                                                                                                                                                                                                       \n",
       "453  Hello,\\n\\nHas anyone used the Requirements Analsys methodology Hatley & Pirbhai ? I am\\na British final year real-time degree student, and as a project I am covering\\nthis methodology. I would be very grateful to anyone who could give me their\\nviews on this method. Please mail me if you feel you can help, and I will send\\nyou my questions.\\n\\nThanks in advance,                                                                                                                                                                                                                                                                                                                                                                                                                                                                                                                                                                                                                                                                                                                                                                                                                                                                                                                                                                                                                                                                                                                                                                                                                                                    \n",
       "575  \\nRight. So all the cops will be buying antique muscle cars for chase cars;\\notherwise the *police* cars will die too!\\n\\n-----------------------------------------------------------------------\\n                    | To get the attention of a large animal, be it an\\n                    | elephant or a bureaucracy, it helps to know what\\nGeorge Patterson -  | part of it feels pain. Be very sure, though, that\\n                    | you want its full attention.\\n                    |                            Kelvin Throop                                                                                                                                                                                                                                                                                                                                                                                                                                                                                                                                                                                                                                                                                                                                                                                                                                                                                                                                                                                                                                                                                  \n",
       "415  Just a few comments about the feasability of zipping up a bunch of miles\\non your electronic odometer with an oscillator....\\n\\n    I wouldn't expect to be able to do this.  Not because the engineers at BMW are\\nputting in anti-fraud logic, but just because an automobile is a noisy, hostile\\nenvironment for electronics, and I would expect the software to be conservative.\\n\\n   If I were to design a microprocessor-based odometer/speedometer program,\\nit would have the following features ( just off the top of my head ):\\n\\n         * Debouncing/deglitching  ( Is this a real pulse, or just a glitch? )\\n         * Smoothing:  The rate-of-change of speed cannot be too high:\\n                                This is a car, not an electron.\\n         *  Top speed limit:  Anything above 200MPH is ridiculous: must be\\n                                        electrical noise or contact bounce\\n\\n    As for getting in and presetting the pins:  if this is the circuit board out of\\na BMW dashboard, I seem to remember a single big chip with lotsa pins in the\\nmiddle of the card.  Good luck getting at the counter :-).\\n\\n    I wouldn't expect a high input frequency to damage the meter:  remember, it's\\nprobably damped so it can't move too fast, and is probably protected.  After all,\\na car is an extremely hostile place for delicate electronics;  there used to be an\\napp note in the National Semiconductor Linear Databook that went into this\\nin good detail.\\n\\n                               - Jerry Kaidor ( tr2!jerry@dragoman.com, jkaidor@synoptics.com )\\n   \n",
       "\n",
       "     label  \n",
       "429  0      \n",
       "479  0      \n",
       "453  0      \n",
       "575  0      \n",
       "415  0      "
      ]
     },
     "metadata": {},
     "output_type": "display_data"
    },
    {
     "name": "stdout",
     "output_type": "stream",
     "text": [
      "GUNS\n"
     ]
    },
    {
     "data": {
      "text/html": [
       "<div>\n",
       "<style scoped>\n",
       "    .dataframe tbody tr th:only-of-type {\n",
       "        vertical-align: middle;\n",
       "    }\n",
       "\n",
       "    .dataframe tbody tr th {\n",
       "        vertical-align: top;\n",
       "    }\n",
       "\n",
       "    .dataframe thead th {\n",
       "        text-align: right;\n",
       "    }\n",
       "</style>\n",
       "<table border=\"1\" class=\"dataframe\">\n",
       "  <thead>\n",
       "    <tr style=\"text-align: right;\">\n",
       "      <th></th>\n",
       "      <th>text</th>\n",
       "      <th>label</th>\n",
       "    </tr>\n",
       "  </thead>\n",
       "  <tbody>\n",
       "    <tr>\n",
       "      <th>548</th>\n",
       "      <td>\\n     It's not the NRA's fault; but it is something to consider if you are\\nconsidering contributing to the NRA. If candidate B is a complete asshole\\nwhose only saving grace is that he opposes unnecessary restrictions on\\nfirearms, I wouldn't want my membership dues funding efforts to get him\\nre-elected.\\n\\n     I have other problems with the NRA (as an organization; the individual\\nmembers I've met have been loyal, trustworthy, honest, brave, etc.,\\nespecially my boss who probably reads this newsgroup B-&gt;); they are\\ndefinitely pro-hunting, and I recall seeing a pro-Desert Storm NRA bumper\\nsticker. Sometimes they come on too strong in the political arena, which\\ncontributes to their reputation as \"bad guys\" amoung many people.</td>\n",
       "      <td>1</td>\n",
       "    </tr>\n",
       "    <tr>\n",
       "      <th>504</th>\n",
       "      <td>\\n   [flame-bait, pure and simple]\\n\\n\\n</td>\n",
       "      <td>1</td>\n",
       "    </tr>\n",
       "    <tr>\n",
       "      <th>289</th>\n",
       "      <td>\\nI'd hardly call that \"giving up his chance to be Vice President of the US\";\\nthe chance of the Populist Party ticket winning is essentially nil.  Still,\\nit does imply that he doesn't want to be associated with Duke.</td>\n",
       "      <td>1</td>\n",
       "    </tr>\n",
       "    <tr>\n",
       "      <th>283</th>\n",
       "      <td>: You are loosing.\\n: There is no question about it. \\n: Of those who vote, your cause is considered an abomination. No matter\\n: how hard you try, public opinion is set against the RKBA. \\n\\n  Care to show some *real* numbers instead of something HCI make up?\\n  I thought so, all \"foaming at the mouth\" shouting but nothing is \\n  ever said...\\n   \\n: This is the end. By the finish of the Clinton administration, your\\n: RKBA will be null and void. Tough titty.\\n\\n  Well, we'll just have to wait and see about that, won't we?  Or are\\n  you quite satisified with living in your little fantasy?\\n \\n&lt; SNIP &gt;\\n: cases of firearms abuses has ruined your cause. There is nothing you\\n&lt; SNIP &gt;\\n: The press is against you, the public (the voting public) is against\\n: you, the flow of history is against you ... this is it !\\n\\n  Not true, it is ONLY those who are ignorant and are afraid to understand,\\n  accept, and deal with the real problems behind this violent society \\n  who are proposing gun control as a band-aid solution.  May be I should \\n  refresh your memory with a quote from Prez. Clintion? \\n\\n    \"It's the criminals, stupid!\"  \\n\\n  HEY, why is he cutting the budget for more prisons? May be someone need \\n  to remind him of what he promised...on second thought, why bother...\\n\\n: Surrender your arms. Soon enough, officers will be around to collect\\n: them. Resistance is useless. They will overwhelm you - one at a time.\\n: Your neighbors will not help you. They will consider you more if an\\n: immediate threat than the abstract 'criminal'. \\n\\n  Oooh, WACO II, coming to your living room soon...  When was the last\\n  time you turned off your TV?  Can't remember?  I thought so...\\n\\n: Too fucking bad. You have gone the way of the KKK. Violent solutions\\n: are passe'. Avoid situations which encourage criminals. Then you will\\n: be as safe as possible. Such as it is ...\\n\\n  Wait, I got it, this is a late April fool post, right?  I didn't\\n  think ANYBODY is stupid enough to post something like this...good one\\n  guys, this group was getting boring without Holly and Susan.</td>\n",
       "      <td>1</td>\n",
       "    </tr>\n",
       "    <tr>\n",
       "      <th>327</th>\n",
       "      <td>\\nNot to mention last year's Weaver affair.\\n\\nAnyway, here's how I see the Waco affair; I'd be interested in other peoples'\\ninterpretations...\\n\\n1. Koresh and his people were basically minding their own business.\\n2. Some weapons violations may have been committed and I wouldn't have\\n   disapproved of prosecuting him for those violations.  However, I think\\n   the BATF was criminal for starting negotiations with a military style\\n   assault and for firing into a house where there were children and other\\n   noncombatants.\\n3. I don't see they couldn't just leave a token guard on the place and wait\\n   the BDs out; I don't approve of the tear gas approach and, if it caused\\n   the fire to be started, I think the FBI agent responsible should spend\\n   10-20 years in jail.\\n4. However, if Koresh's response to the tear gas was to kill everyone there,\\n   I hold him largely responsible for their deaths.</td>\n",
       "      <td>1</td>\n",
       "    </tr>\n",
       "  </tbody>\n",
       "</table>\n",
       "</div>"
      ],
      "text/plain": [
       "                                                                                                                                                                                                                                                                                                                                                                                                                                                                                                                                                                                                                                                                                                                                                                                                                                                                                                                                                                                                                                                                                                                                                                                                                                                                                                                                                                                                                                                                                                                                                                                                                                                                                                                                                                                                                                                                                                                                                                                                                                                                                                                                                                                          text  \\\n",
       "548  \\n     It's not the NRA's fault; but it is something to consider if you are\\nconsidering contributing to the NRA. If candidate B is a complete asshole\\nwhose only saving grace is that he opposes unnecessary restrictions on\\nfirearms, I wouldn't want my membership dues funding efforts to get him\\nre-elected.\\n\\n     I have other problems with the NRA (as an organization; the individual\\nmembers I've met have been loyal, trustworthy, honest, brave, etc.,\\nespecially my boss who probably reads this newsgroup B->); they are\\ndefinitely pro-hunting, and I recall seeing a pro-Desert Storm NRA bumper\\nsticker. Sometimes they come on too strong in the political arena, which\\ncontributes to their reputation as \"bad guys\" amoung many people.                                                                                                                                                                                                                                                                                                                                                                                                                                                                                                                                                                                                                                                                                                                                                                                                                                                                                                                                                                                                                                                                                                                                                                                                                                                                                                                                                                                                                       \n",
       "504  \\n   [flame-bait, pure and simple]\\n\\n\\n                                                                                                                                                                                                                                                                                                                                                                                                                                                                                                                                                                                                                                                                                                                                                                                                                                                                                                                                                                                                                                                                                                                                                                                                                                                                                                                                                                                                                                                                                                                                                                                                                                                                                                                                                                                                                                                                                                                                                                                                                                                                                                                                                    \n",
       "289  \\nI'd hardly call that \"giving up his chance to be Vice President of the US\";\\nthe chance of the Populist Party ticket winning is essentially nil.  Still,\\nit does imply that he doesn't want to be associated with Duke.                                                                                                                                                                                                                                                                                                                                                                                                                                                                                                                                                                                                                                                                                                                                                                                                                                                                                                                                                                                                                                                                                                                                                                                                                                                                                                                                                                                                                                                                                                                                                                                                                                                                                                                                                                                                                                                                                                                                                                  \n",
       "283  : You are loosing.\\n: There is no question about it. \\n: Of those who vote, your cause is considered an abomination. No matter\\n: how hard you try, public opinion is set against the RKBA. \\n\\n  Care to show some *real* numbers instead of something HCI make up?\\n  I thought so, all \"foaming at the mouth\" shouting but nothing is \\n  ever said...\\n   \\n: This is the end. By the finish of the Clinton administration, your\\n: RKBA will be null and void. Tough titty.\\n\\n  Well, we'll just have to wait and see about that, won't we?  Or are\\n  you quite satisified with living in your little fantasy?\\n \\n< SNIP >\\n: cases of firearms abuses has ruined your cause. There is nothing you\\n< SNIP >\\n: The press is against you, the public (the voting public) is against\\n: you, the flow of history is against you ... this is it !\\n\\n  Not true, it is ONLY those who are ignorant and are afraid to understand,\\n  accept, and deal with the real problems behind this violent society \\n  who are proposing gun control as a band-aid solution.  May be I should \\n  refresh your memory with a quote from Prez. Clintion? \\n\\n    \"It's the criminals, stupid!\"  \\n\\n  HEY, why is he cutting the budget for more prisons? May be someone need \\n  to remind him of what he promised...on second thought, why bother...\\n\\n: Surrender your arms. Soon enough, officers will be around to collect\\n: them. Resistance is useless. They will overwhelm you - one at a time.\\n: Your neighbors will not help you. They will consider you more if an\\n: immediate threat than the abstract 'criminal'. \\n\\n  Oooh, WACO II, coming to your living room soon...  When was the last\\n  time you turned off your TV?  Can't remember?  I thought so...\\n\\n: Too fucking bad. You have gone the way of the KKK. Violent solutions\\n: are passe'. Avoid situations which encourage criminals. Then you will\\n: be as safe as possible. Such as it is ...\\n\\n  Wait, I got it, this is a late April fool post, right?  I didn't\\n  think ANYBODY is stupid enough to post something like this...good one\\n  guys, this group was getting boring without Holly and Susan.    \n",
       "327  \\nNot to mention last year's Weaver affair.\\n\\nAnyway, here's how I see the Waco affair; I'd be interested in other peoples'\\ninterpretations...\\n\\n1. Koresh and his people were basically minding their own business.\\n2. Some weapons violations may have been committed and I wouldn't have\\n   disapproved of prosecuting him for those violations.  However, I think\\n   the BATF was criminal for starting negotiations with a military style\\n   assault and for firing into a house where there were children and other\\n   noncombatants.\\n3. I don't see they couldn't just leave a token guard on the place and wait\\n   the BDs out; I don't approve of the tear gas approach and, if it caused\\n   the fire to be started, I think the FBI agent responsible should spend\\n   10-20 years in jail.\\n4. However, if Koresh's response to the tear gas was to kill everyone there,\\n   I hold him largely responsible for their deaths.                                                                                                                                                                                                                                                                                                                                                                                                                                                                                                                                                                                                                                                                                                                                                                                                                                                                                                                                                                                                                                                                                                                                                                                                                                         \n",
       "\n",
       "     label  \n",
       "548  1      \n",
       "504  1      \n",
       "289  1      \n",
       "283  1      \n",
       "327  1      "
      ]
     },
     "metadata": {},
     "output_type": "display_data"
    }
   ],
   "source": [
    "# rerun this cell to get a new sample\n",
    "print(\"ELECTRONICS\")\n",
    "display(df_dev[df_dev.label==ELECTRONICS].sample(5))\n",
    "print(\"GUNS\")\n",
    "display(df_dev[df_dev.label==GUNS].sample(5))"
   ]
  },
  {
   "cell_type": "markdown",
   "metadata": {},
   "source": [
    "## Writing Labeling Functions"
   ]
  },
  {
   "cell_type": "markdown",
   "metadata": {},
   "source": [
    "__Your task for this tutorial is to write 5 labeling functions.__\n",
    "\n",
    "Feel free to consult the internet or ask your experiment leader.\n",
    "\n",
    "*(For the real task, you will be given 30 minutes. You will still be allowed to use the internet in this phase, but not ask your experiment leader.)*\n",
    "\n",
    "Your function should take x as an input and output ELECTRONICS, GUNS, or ABSTAIN. "
   ]
  },
  {
   "cell_type": "code",
   "execution_count": 7,
   "metadata": {},
   "outputs": [],
   "source": [
    "@labeling_function()\n",
    "def lf0(x):\n",
    "    return GUNS if \"firearm\" in x.text.lower() else ABSTAIN"
   ]
  },
  {
   "cell_type": "markdown",
   "metadata": {},
   "source": [
    "Your turn! try writing a function or editing the one above.\n",
    "\n",
    "If you want, you can write helper functions to reuse. For example:"
   ]
  },
  {
   "cell_type": "code",
   "execution_count": 8,
   "metadata": {},
   "outputs": [],
   "source": [
    "# example helper function \n",
    "from nltk.sentiment.vader import SentimentIntensityAnalyzer\n",
    "sia = SentimentIntensityAnalyzer()\n",
    "def sentiment(text):\n",
    "    return sia.polarity_scores(text)[\"compound\"]"
   ]
  },
  {
   "cell_type": "code",
   "execution_count": 9,
   "metadata": {},
   "outputs": [],
   "source": [
    "@labeling_function()\n",
    "def lf1(x):\n",
    "    return ELECTRONICS if \"tesla\" in x.text.lower() else ABSTAIN"
   ]
  },
  {
   "cell_type": "code",
   "execution_count": 10,
   "metadata": {},
   "outputs": [],
   "source": [
    "@labeling_function()\n",
    "def lf2(x):\n",
    "    count = len(re.findall(\"power\", x.text.lower())) \n",
    "    return ELECTRONICS if count > 2 else GUNS "
   ]
  },
  {
   "cell_type": "code",
   "execution_count": 11,
   "metadata": {},
   "outputs": [],
   "source": [
    "@labeling_function()\n",
    "def lf3(x):\n",
    "    return ABSTAIN"
   ]
  },
  {
   "cell_type": "code",
   "execution_count": 12,
   "metadata": {},
   "outputs": [],
   "source": [
    "@labeling_function()\n",
    "def lf4(x):\n",
    "    return ABSTAIN"
   ]
  },
  {
   "cell_type": "markdown",
   "metadata": {},
   "source": [
    "Test your function (optional)"
   ]
  },
  {
   "cell_type": "code",
   "execution_count": 13,
   "metadata": {},
   "outputs": [],
   "source": [
    "from types import SimpleNamespace\n",
    "\n",
    "def test_func(lf, example_text):\n",
    "    x = SimpleNamespace(text=example_text)\n",
    "    return lf(x)"
   ]
  },
  {
   "cell_type": "code",
   "execution_count": 14,
   "metadata": {},
   "outputs": [
    {
     "data": {
      "text/plain": [
       "1"
      ]
     },
     "execution_count": 14,
     "metadata": {},
     "output_type": "execute_result"
    }
   ],
   "source": [
    "test_func(lf2, \"I've got a powerful powerful tesla coil\")"
   ]
  },
  {
   "cell_type": "markdown",
   "metadata": {},
   "source": [
    "## Applying Functions\n",
    "This is how we obtain training labels, by training a model to combine the outputs of the noisy labeling functions.\n",
    "`L_train` and `L_dev` are matrices representing the label returned by each labeling function for each example in the training and development sets."
   ]
  },
  {
   "cell_type": "code",
   "execution_count": 15,
   "metadata": {},
   "outputs": [
    {
     "name": "stderr",
     "output_type": "stream",
     "text": [
      "100%|██████████| 477/477 [00:00<00:00, 16412.09it/s]\n",
      "100%|██████████| 400/400 [00:00<00:00, 18476.70it/s]\n"
     ]
    }
   ],
   "source": [
    "# Make sure this list has all your labeling functions\n",
    "lfs = [lf0, lf1, lf2, lf3, lf4]\n",
    "\n",
    "# Apply the LFs to the unlabeled training data, and the development data\n",
    "applier = PandasLFApplier(lfs)\n",
    "L_train = applier.apply(df_train)\n",
    "L_dev = applier.apply(df_dev)"
   ]
  },
  {
   "cell_type": "markdown",
   "metadata": {},
   "source": [
    "Train the snorkel model to combine these noisy labels."
   ]
  },
  {
   "cell_type": "code",
   "execution_count": 16,
   "metadata": {},
   "outputs": [],
   "source": [
    "# Train the label model and compute the training labels\n",
    "label_model = LabelModel(cardinality=2, verbose=True)\n",
    "label_model.fit(L_train, n_epochs=500, log_freq=50, seed=123)\n",
    "df_train[\"pred_label\"] = label_model.predict_proba(L=L_train)[:,0]\n",
    "probs_train = df_train[\"pred_label\"]\n",
    "\n",
    "# record intermediate results\n",
    "# Don't worry about this code block, we just store some metrics to keep track of your progress.\n",
    "Y_dev = df_dev.label.values\n",
    "stats = label_model.score(L=L_dev, Y=Y_dev, metrics=[\"f1\", \"precision\", \"recall\"])\n",
    "df_train_filtered, probs_train_filtered = filter_unlabeled_dataframe(\n",
    "            X=df_train, y=probs_train, L=L_train)\n",
    "stats[\"training_label_coverage\"] = len(probs_train_filtered)/len(probs_train)\n",
    "stats[\"training_label_size\"] = len(probs_train_filtered)\n",
    "stats[\"time\"] = datetime.now()\n",
    "stat_history = stat_history.append(stats, ignore_index=True)"
   ]
  },
  {
   "cell_type": "code",
   "execution_count": 17,
   "metadata": {},
   "outputs": [
    {
     "data": {
      "text/html": [
       "<div>\n",
       "<style scoped>\n",
       "    .dataframe tbody tr th:only-of-type {\n",
       "        vertical-align: middle;\n",
       "    }\n",
       "\n",
       "    .dataframe tbody tr th {\n",
       "        vertical-align: top;\n",
       "    }\n",
       "\n",
       "    .dataframe thead th {\n",
       "        text-align: right;\n",
       "    }\n",
       "</style>\n",
       "<table border=\"1\" class=\"dataframe\">\n",
       "  <thead>\n",
       "    <tr style=\"text-align: right;\">\n",
       "      <th></th>\n",
       "      <th>text</th>\n",
       "      <th>pred_label</th>\n",
       "    </tr>\n",
       "  </thead>\n",
       "  <tbody>\n",
       "    <tr>\n",
       "      <th>1008</th>\n",
       "      <td>Yes, I know it sounds crazy. Call it an urge. Call it what you want.\\nJust don't ask why :-)\\n\\nAnyway, I'd like to build a UV flashlight, cheaply. \"flashlight\" means\\nit should be reasonably portable, but could have a power pack if\\nnecessary.\\n\\nMy main question is the bulb: where can I get UV bulbs? Do they\\nneed a lot of power? etc., etc.\\n\\nI'm not too concerned with whether it's long-wave or short-wave\\n(but hey, if anyone has a cheap source of bulbs, I'll take both).\\n\\nOne other thing: a friend of mine mentioned something about near-UV\\nlight being cheaper to get at than actual UV light. Does anyone\\nknow what he was referring to?\\n\\nThanks much.\\n\\n</td>\n",
       "      <td>0.388506</td>\n",
       "    </tr>\n",
       "    <tr>\n",
       "      <th>1019</th>\n",
       "      <td>\\nAs a general rule, no relay will cleanly switch audio if you try to tranfer\\nthe circuit with the contacts.  The noise you hear is due to the momentary\\nopening and closing of the path.\\n\\nThe noiseless way of transfering audio is to ground the circuit.  In high\\nimpedance audio circuits a resistive \"T\" is constructed close to characteristic\\nimpedance of the circuit.  Grounding the imputs (connected to the T) transfers\\nthe audio.\\n\\nIn low impedance circuits transformers are usually used, and the inputs are\\nshorted out or grounded.  Secondaries are paralleled at the characteristic\\nimpedance.\\n\\nSometimes if it is necessary to actually switch audio, a second contact is used\\nto momentarily short the circuit output for the duration of the switching time.\\n\\nTelephone relays are handy, because contacts can be adjusted to \"Make before\\nbreak and Vica Versa\" but I haven't seen any of these for years.\\n\\nNowadys switching is done electronically with OP amps, etc.\\n\\nA novel circuit I used to build was a primitive \"optical isolator\".. It consists\\nof a resistive photocell and a lamp, all packaged in a tube.  When the lamp is\\noff the cell is high resistance.  Turn the lamp on and the resistance lowers\\npassing the audio.  Once again this device in a \"T\" switches the audio.  Varying\\nthe lamp resistance give a remote volume control.  Use 2 variable resisters and\\nyou have a mixer!\\n\\nLots of luck!\\n-- \\n73, Tom\\n================================================================================\\nTom Wagner, Audio Visual Technician.  Malaspina College Nanaimo British Columbia\\n(604)753-3245, Loc 2230  Fax:755-8742  Callsign:VE7GDA Weapon:.45 Kentucky Rifle\\nSnail mail to:  Site Q4, C2.   RR#4, Nanaimo, British Columbia, Canada, V9R 5X9</td>\n",
       "      <td>0.388506</td>\n",
       "    </tr>\n",
       "    <tr>\n",
       "      <th>618</th>\n",
       "      <td>According to WNCI 97.9 FM radio this morning, Dayton, Ohio is operating a\\ngun \"buy back\".  They are giving $50 for every functional gun turned in.\\nThey ran out of money in one day, and are now passing out $50 vouchers of\\nsome sort.  They are looking for more funds to keep operating.  Another\\nmedia-event brought to you by HCI.\\n\\nIs there something similar pro-gun people can do ?  For example, pay $100\\nto anyone who lawfully protects their life with a firearm ?  Sounds a bit\\ntacky, but hey, whatever works.</td>\n",
       "      <td>0.339520</td>\n",
       "    </tr>\n",
       "    <tr>\n",
       "      <th>1091</th>\n",
       "      <td>\\n\\tIf alcohol were again banned today, it would be MUCH more\\n\\tdifficult to manage a large-scale smuggling operation. \\n\\tThe cops now rank just a narrow notch below the military\\n\\tin communications, intelligence gathering and firepower.\\n\\n\\tIn a similar vein, the amount of marijuana smuggled into\\n\\tthis country has greatly decreased. This is because its\\n\\tvalue-per-pound is very low when compared to cocaine or\\n\\theroin. It's simply not worth the risk, it's uneconomical.\\n\\tNow, most reefer is domestic. There is less pressure on\\n\\tthe domestic producer (showy raids notwithstanding) and\\n\\tthus it is economical. Of note though ... domestic reefer\\n\\tis now very strong, so a small volume goes a long way.\\n\\tYou cannot make alcohol stronger than 200 proof - not a\\n\\tgood dollar/pound deal.</td>\n",
       "      <td>0.388506</td>\n",
       "    </tr>\n",
       "    <tr>\n",
       "      <th>669</th>\n",
       "      <td>Here is a copy of my first update on the Randy Weaver trial.\\nAfter a large response (about 15 email messages), I've decided\\nthat there is sufficient interest here on t.p.g. to warrant\\nposting.\\n\\n*** file follows *** \\n\\nHi Folks;\\n\\nAs perhaps the only Boise resident on the list, I guess it\\nkind of falls on me to keep people updated about the\\nRandy Weaver/Kevin Harris trial.\\n\\nYesterday marked the seating of the jury.  Apparently no other\\nlegal activities occurred.  The jury was selected and things\\nstart today.\\n\\nMore interesting is what happenned outside.  About a dozen\\nWeaver supporters showed up to stage a protest outside the\\ncourthouse.  One woman carried a sign that read, \"Who stands\\ntrial for the murder of Vicki and (son's name - I forget)\\nWeaver?\"  On the evening news she said, \"I am here protesting\\nbecause I believe in freedom of speech and freedom of religion.\\nI thought we all did.\"  Nice sound bite (grin)!\\n\\nThe news reporter also interviewed some guy named \"Tim\"\\nwho refused to give his last name.  Not to prejudge the\\nguy, but he looked like a neo-nazi.  He also said he\\nexpected many neo-nazis to show up throughout the trial.\\n\"Tim\" had been handing out leaflets in support of Weaver\\nand Harris and the news had footage of a Boise cop\\ntelling him to move along or he'd arrest.  I don't know\\nthe finer points of this one.  Perhaps there's a law\\nagainst political activity within X feet of a courthouse\\nor something (what happenned to the First Amendment?!?).\\n\\nMost ominous of all was that the local reporter filmed\\nan agent of the Gestapo...err...ATF with a minicam\\nFILMING THE PROTESTORS!  Welcome to the world of Big Brother.\\n\\nAnyhow, Gerry Spence came out and asked the protestors to\\nleave because he didn't think it would help Weaver's case\\nany.  He said he was confident that, once the evidence\\ncame out, that Weaver would be aquitted.\\n\\nMore stuff as it comes available.</td>\n",
       "      <td>0.388506</td>\n",
       "    </tr>\n",
       "  </tbody>\n",
       "</table>\n",
       "</div>"
      ],
      "text/plain": [
       "                                                                                                                                                                                                                                                                                                                                                                                                                                                                                                                                                                                                                                                                                                                                                                                                                                                                                                                                                                                                                                                                                                                                                                                                                                                                                                                                                                                                                                                                                                                                                                                                                                                                                                                                                                                                                                                                                                                                                                                                                    text  \\\n",
       "1008  Yes, I know it sounds crazy. Call it an urge. Call it what you want.\\nJust don't ask why :-)\\n\\nAnyway, I'd like to build a UV flashlight, cheaply. \"flashlight\" means\\nit should be reasonably portable, but could have a power pack if\\nnecessary.\\n\\nMy main question is the bulb: where can I get UV bulbs? Do they\\nneed a lot of power? etc., etc.\\n\\nI'm not too concerned with whether it's long-wave or short-wave\\n(but hey, if anyone has a cheap source of bulbs, I'll take both).\\n\\nOne other thing: a friend of mine mentioned something about near-UV\\nlight being cheaper to get at than actual UV light. Does anyone\\nknow what he was referring to?\\n\\nThanks much.\\n\\n                                                                                                                                                                                                                                                                                                                                                                                                                                                                                                                                                                                                                                                                                                                                                                                                                                                                                                                                                                                                                                                                                                                                                                                                                                                                                                                           \n",
       "1019  \\nAs a general rule, no relay will cleanly switch audio if you try to tranfer\\nthe circuit with the contacts.  The noise you hear is due to the momentary\\nopening and closing of the path.\\n\\nThe noiseless way of transfering audio is to ground the circuit.  In high\\nimpedance audio circuits a resistive \"T\" is constructed close to characteristic\\nimpedance of the circuit.  Grounding the imputs (connected to the T) transfers\\nthe audio.\\n\\nIn low impedance circuits transformers are usually used, and the inputs are\\nshorted out or grounded.  Secondaries are paralleled at the characteristic\\nimpedance.\\n\\nSometimes if it is necessary to actually switch audio, a second contact is used\\nto momentarily short the circuit output for the duration of the switching time.\\n\\nTelephone relays are handy, because contacts can be adjusted to \"Make before\\nbreak and Vica Versa\" but I haven't seen any of these for years.\\n\\nNowadys switching is done electronically with OP amps, etc.\\n\\nA novel circuit I used to build was a primitive \"optical isolator\".. It consists\\nof a resistive photocell and a lamp, all packaged in a tube.  When the lamp is\\noff the cell is high resistance.  Turn the lamp on and the resistance lowers\\npassing the audio.  Once again this device in a \"T\" switches the audio.  Varying\\nthe lamp resistance give a remote volume control.  Use 2 variable resisters and\\nyou have a mixer!\\n\\nLots of luck!\\n-- \\n73, Tom\\n================================================================================\\nTom Wagner, Audio Visual Technician.  Malaspina College Nanaimo British Columbia\\n(604)753-3245, Loc 2230  Fax:755-8742  Callsign:VE7GDA Weapon:.45 Kentucky Rifle\\nSnail mail to:  Site Q4, C2.   RR#4, Nanaimo, British Columbia, Canada, V9R 5X9                                                                                                                                                                                      \n",
       "618   According to WNCI 97.9 FM radio this morning, Dayton, Ohio is operating a\\ngun \"buy back\".  They are giving $50 for every functional gun turned in.\\nThey ran out of money in one day, and are now passing out $50 vouchers of\\nsome sort.  They are looking for more funds to keep operating.  Another\\nmedia-event brought to you by HCI.\\n\\nIs there something similar pro-gun people can do ?  For example, pay $100\\nto anyone who lawfully protects their life with a firearm ?  Sounds a bit\\ntacky, but hey, whatever works.                                                                                                                                                                                                                                                                                                                                                                                                                                                                                                                                                                                                                                                                                                                                                                                                                                                                                                                                                                                                                                                                                                                                                                                                                                                                                                                                                                                                                                                                                 \n",
       "1091  \\n\\tIf alcohol were again banned today, it would be MUCH more\\n\\tdifficult to manage a large-scale smuggling operation. \\n\\tThe cops now rank just a narrow notch below the military\\n\\tin communications, intelligence gathering and firepower.\\n\\n\\tIn a similar vein, the amount of marijuana smuggled into\\n\\tthis country has greatly decreased. This is because its\\n\\tvalue-per-pound is very low when compared to cocaine or\\n\\theroin. It's simply not worth the risk, it's uneconomical.\\n\\tNow, most reefer is domestic. There is less pressure on\\n\\tthe domestic producer (showy raids notwithstanding) and\\n\\tthus it is economical. Of note though ... domestic reefer\\n\\tis now very strong, so a small volume goes a long way.\\n\\tYou cannot make alcohol stronger than 200 proof - not a\\n\\tgood dollar/pound deal.                                                                                                                                                                                                                                                                                                                                                                                                                                                                                                                                                                                                                                                                                                                                                                                                                                                                                                                                                                                                                                                                                                                                                                                \n",
       "669   Here is a copy of my first update on the Randy Weaver trial.\\nAfter a large response (about 15 email messages), I've decided\\nthat there is sufficient interest here on t.p.g. to warrant\\nposting.\\n\\n*** file follows *** \\n\\nHi Folks;\\n\\nAs perhaps the only Boise resident on the list, I guess it\\nkind of falls on me to keep people updated about the\\nRandy Weaver/Kevin Harris trial.\\n\\nYesterday marked the seating of the jury.  Apparently no other\\nlegal activities occurred.  The jury was selected and things\\nstart today.\\n\\nMore interesting is what happenned outside.  About a dozen\\nWeaver supporters showed up to stage a protest outside the\\ncourthouse.  One woman carried a sign that read, \"Who stands\\ntrial for the murder of Vicki and (son's name - I forget)\\nWeaver?\"  On the evening news she said, \"I am here protesting\\nbecause I believe in freedom of speech and freedom of religion.\\nI thought we all did.\"  Nice sound bite (grin)!\\n\\nThe news reporter also interviewed some guy named \"Tim\"\\nwho refused to give his last name.  Not to prejudge the\\nguy, but he looked like a neo-nazi.  He also said he\\nexpected many neo-nazis to show up throughout the trial.\\n\"Tim\" had been handing out leaflets in support of Weaver\\nand Harris and the news had footage of a Boise cop\\ntelling him to move along or he'd arrest.  I don't know\\nthe finer points of this one.  Perhaps there's a law\\nagainst political activity within X feet of a courthouse\\nor something (what happenned to the First Amendment?!?).\\n\\nMost ominous of all was that the local reporter filmed\\nan agent of the Gestapo...err...ATF with a minicam\\nFILMING THE PROTESTORS!  Welcome to the world of Big Brother.\\n\\nAnyhow, Gerry Spence came out and asked the protestors to\\nleave because he didn't think it would help Weaver's case\\nany.  He said he was confident that, once the evidence\\ncame out, that Weaver would be aquitted.\\n\\nMore stuff as it comes available.   \n",
       "\n",
       "      pred_label  \n",
       "1008  0.388506    \n",
       "1019  0.388506    \n",
       "618   0.339520    \n",
       "1091  0.388506    \n",
       "669   0.388506    "
      ]
     },
     "metadata": {},
     "output_type": "display_data"
    }
   ],
   "source": [
    "# let's see some examples of aggregated (probabilistic) labels!\n",
    "# re run this cell for new examples\n",
    "display(df_train.sample(5))"
   ]
  },
  {
   "cell_type": "markdown",
   "metadata": {},
   "source": [
    "## View Unlabeled Examples\n",
    "You can use these to brainstorm new labeling functions. You may try filtering or sorting them in other ways.\n",
    "\n",
    "If you get a `ValueError: a must be greater than 0 unless no samples are taken`, this means all your training examples are labeled by at least one LF."
   ]
  },
  {
   "cell_type": "code",
   "execution_count": 18,
   "metadata": {},
   "outputs": [
    {
     "name": "stdout",
     "output_type": "stream",
     "text": [
      "ValueError: \n",
      "a must be greater than 0 unless no samples are taken\n",
      "\n",
      "Examples with lowest coverage: (1)\n"
     ]
    },
    {
     "data": {
      "text/html": [
       "<div>\n",
       "<style scoped>\n",
       "    .dataframe tbody tr th:only-of-type {\n",
       "        vertical-align: middle;\n",
       "    }\n",
       "\n",
       "    .dataframe tbody tr th {\n",
       "        vertical-align: top;\n",
       "    }\n",
       "\n",
       "    .dataframe thead th {\n",
       "        text-align: right;\n",
       "    }\n",
       "</style>\n",
       "<table border=\"1\" class=\"dataframe\">\n",
       "  <thead>\n",
       "    <tr style=\"text-align: right;\">\n",
       "      <th></th>\n",
       "      <th>text</th>\n",
       "      <th>pred_label</th>\n",
       "    </tr>\n",
       "  </thead>\n",
       "  <tbody>\n",
       "    <tr>\n",
       "      <th>615</th>\n",
       "      <td>I had a GE Emerson 13\" color TV for about 3 years and one fine day,\\nwhile we were watching something (I doubt if the program was the cause),\\nwe heard a mild explosion.   Our screen went blank but there was sound,\\nso we thought, 'oh we have special effects on the program'.  But soon\\nthe sound stopped and smoke started to appear at the back of the TV.\\nThe brilliant EEs we are, we unplugged the TV and called customer service\\nonly to be thrown around by please hold, I will transfer u to blah blah..\\n  Finally we abandoned the idea of trying to fix the TV and got a new one\\n(we wanted a bigger one too!).\\n After all the story, what I wanted to know is: Is my problem an isolated\\nincident or a common one? (I recall reading about Russian TVs exploding, but\\nnot here, in the US). Why would the picture tube explode or even smoke?\\n I still have the left over TV set, I might dig into it this summer. Any\\nidea where I can get parts for these things? (probably will cost more than TV).</td>\n",
       "      <td>0.388506</td>\n",
       "    </tr>\n",
       "    <tr>\n",
       "      <th>616</th>\n",
       "      <td>\\nAre you switching high level signals or low level signals like pre-amp\\nout level signals?  Also, are the clicks you mentioning the big\\nclack that happens when it switches or are you refering to contact\\nbounce?  How are you driving the relays?  TTL gate output?  Switching\\ntransistor?  How are the relays connected to what you are driving?</td>\n",
       "      <td>0.388506</td>\n",
       "    </tr>\n",
       "    <tr>\n",
       "      <th>617</th>\n",
       "      <td>\\n\\n\\n\\nAnd they work especially well when the Feds have cut off your utilities.\\n--</td>\n",
       "      <td>0.388506</td>\n",
       "    </tr>\n",
       "    <tr>\n",
       "      <th>619</th>\n",
       "      <td>\\nThey do. According the the Los Angeles Police Department, illegal\\nmanufacture is one the three primary sources of machine guns and\\nsubmachine guns used in crimes (sumggling and theft from the\\npolice and military being the other two.) Washington D.C. police\\nhave stated that 40% (If I'm remembering the figure correctly) of\\nthe guns they conficate were illegally built.\\n\\n\\nIt takes about 6 hours and a few tools to make one (at least one\\nof reasonable quality). Unless the drug dealer enjoyes messing\\naround on a lathe (say, as a hobby), he's going to have to \\npay someone anyway. Materials plus six hours of a machinist's\\ntime for something legal would run about $100. The blackmarket\\nprices for guns are usually in the $50 to $200 range (at least\\nthose few I've seen cited in newspaper articles were...)\\n\\n\\nWashington D.C. has a total ban on handguns and prohibits assembled\\nrifles within city limits. It's homicide rate is almost ten\\ntimes the national average. It is also illegal for a D.C.\\nresident to drive to the Virginia or Maryland suburbs and\\nbuy a gun (dealers are required by federal law to check IDs\\nand make sure the buyer isn't from another state) so the ban \\ncan not be easily side-stepped.\\n\\n\\nSure. But it you couldn't buy one, you would write your own (in\\nfact, people _did_ write their own 15 years ago...) More likely,\\nyou would find a friend who was a particularly good programer\\nand get him give you a copy of his. Software is a _very_ bad\\nexample for your case: How many people do you know with illegal\\ncopies of $400 word processors? If people want something, and\\nit isn't available (or affordable) legally, they will usually\\nget it illegally.\\n\\n\\nQuite.\\n\\n\\n13-3-2. The formula has been around for half a million years.\\nOr are you going to restrict sales of sulpher, charcoal and\\nsaltpeter? That's alot cruder than modern smokless powder, but\\nit works very well. The only real problems are a ~25% reduction\\nin energy (so a .357 magnum would \"only\" be as deadly as a 9mm)\\nand it makes alot more smoke... Of course, a smart black marketeer\\ncould just make the gun in 9mm and steal the ammunition from the\\npolice (the police are often corruptable, and things are known\\nto disappear from police evidence rooms and armories and\\nreappear on the streets...)\\n\\n\\nPerhaps you weren't watching the news two years ago, but the Serbs \\nalso tried to invade Slovinia. They were driven out after a few\\nweeks by partisans armed with home-made _anti-tank_ weapons.\\nThe Afghan rebels frequently made their own rifles.</td>\n",
       "      <td>0.388506</td>\n",
       "    </tr>\n",
       "    <tr>\n",
       "      <th>620</th>\n",
       "      <td>Doesn't Motorola AMCU have something on the BBS yet? (512-891-3733)\\n</td>\n",
       "      <td>0.388506</td>\n",
       "    </tr>\n",
       "  </tbody>\n",
       "</table>\n",
       "</div>"
      ],
      "text/plain": [
       "                                                                                                                                                                                                                                                                                                                                                                                                                                                                                                                                                                                                                                                                                                                                                                                                                                                                                                                                                                                                                                                                                                                                                                                                                                                                                                                                                                                                                                                                                                                                                                                                                                                                                                                                                                                                                                                                                                                                                                                                                                                                                                                                                                                                                                                                                                                                                                                                                                                                                                                                                                                                                                                                            text  \\\n",
       "615  I had a GE Emerson 13\" color TV for about 3 years and one fine day,\\nwhile we were watching something (I doubt if the program was the cause),\\nwe heard a mild explosion.   Our screen went blank but there was sound,\\nso we thought, 'oh we have special effects on the program'.  But soon\\nthe sound stopped and smoke started to appear at the back of the TV.\\nThe brilliant EEs we are, we unplugged the TV and called customer service\\nonly to be thrown around by please hold, I will transfer u to blah blah..\\n  Finally we abandoned the idea of trying to fix the TV and got a new one\\n(we wanted a bigger one too!).\\n After all the story, what I wanted to know is: Is my problem an isolated\\nincident or a common one? (I recall reading about Russian TVs exploding, but\\nnot here, in the US). Why would the picture tube explode or even smoke?\\n I still have the left over TV set, I might dig into it this summer. Any\\nidea where I can get parts for these things? (probably will cost more than TV).                                                                                                                                                                                                                                                                                                                                                                                                                                                                                                                                                                                                                                                                                                                                                                                                                                                                                                                                                                                                                                                                                                                                                                                                                                                                                                                                                                                                                                                                                                                                                                                                                                             \n",
       "616  \\nAre you switching high level signals or low level signals like pre-amp\\nout level signals?  Also, are the clicks you mentioning the big\\nclack that happens when it switches or are you refering to contact\\nbounce?  How are you driving the relays?  TTL gate output?  Switching\\ntransistor?  How are the relays connected to what you are driving?                                                                                                                                                                                                                                                                                                                                                                                                                                                                                                                                                                                                                                                                                                                                                                                                                                                                                                                                                                                                                                                                                                                                                                                                                                                                                                                                                                                                                                                                                                                                                                                                                                                                                                                                                                                                                                                                                                                                                                                                                                                                                                                                                                                                                                                                                                                      \n",
       "617  \\n\\n\\n\\nAnd they work especially well when the Feds have cut off your utilities.\\n--                                                                                                                                                                                                                                                                                                                                                                                                                                                                                                                                                                                                                                                                                                                                                                                                                                                                                                                                                                                                                                                                                                                                                                                                                                                                                                                                                                                                                                                                                                                                                                                                                                                                                                                                                                                                                                                                                                                                                                                                                                                                                                                                                                                                                                                                                                                                                                                                                                                                                                                                                                                          \n",
       "619  \\nThey do. According the the Los Angeles Police Department, illegal\\nmanufacture is one the three primary sources of machine guns and\\nsubmachine guns used in crimes (sumggling and theft from the\\npolice and military being the other two.) Washington D.C. police\\nhave stated that 40% (If I'm remembering the figure correctly) of\\nthe guns they conficate were illegally built.\\n\\n\\nIt takes about 6 hours and a few tools to make one (at least one\\nof reasonable quality). Unless the drug dealer enjoyes messing\\naround on a lathe (say, as a hobby), he's going to have to \\npay someone anyway. Materials plus six hours of a machinist's\\ntime for something legal would run about $100. The blackmarket\\nprices for guns are usually in the $50 to $200 range (at least\\nthose few I've seen cited in newspaper articles were...)\\n\\n\\nWashington D.C. has a total ban on handguns and prohibits assembled\\nrifles within city limits. It's homicide rate is almost ten\\ntimes the national average. It is also illegal for a D.C.\\nresident to drive to the Virginia or Maryland suburbs and\\nbuy a gun (dealers are required by federal law to check IDs\\nand make sure the buyer isn't from another state) so the ban \\ncan not be easily side-stepped.\\n\\n\\nSure. But it you couldn't buy one, you would write your own (in\\nfact, people _did_ write their own 15 years ago...) More likely,\\nyou would find a friend who was a particularly good programer\\nand get him give you a copy of his. Software is a _very_ bad\\nexample for your case: How many people do you know with illegal\\ncopies of $400 word processors? If people want something, and\\nit isn't available (or affordable) legally, they will usually\\nget it illegally.\\n\\n\\nQuite.\\n\\n\\n13-3-2. The formula has been around for half a million years.\\nOr are you going to restrict sales of sulpher, charcoal and\\nsaltpeter? That's alot cruder than modern smokless powder, but\\nit works very well. The only real problems are a ~25% reduction\\nin energy (so a .357 magnum would \"only\" be as deadly as a 9mm)\\nand it makes alot more smoke... Of course, a smart black marketeer\\ncould just make the gun in 9mm and steal the ammunition from the\\npolice (the police are often corruptable, and things are known\\nto disappear from police evidence rooms and armories and\\nreappear on the streets...)\\n\\n\\nPerhaps you weren't watching the news two years ago, but the Serbs \\nalso tried to invade Slovinia. They were driven out after a few\\nweeks by partisans armed with home-made _anti-tank_ weapons.\\nThe Afghan rebels frequently made their own rifles.    \n",
       "620  Doesn't Motorola AMCU have something on the BBS yet? (512-891-3733)\\n                                                                                                                                                                                                                                                                                                                                                                                                                                                                                                                                                                                                                                                                                                                                                                                                                                                                                                                                                                                                                                                                                                                                                                                                                                                                                                                                                                                                                                                                                                                                                                                                                                                                                                                                                                                                                                                                                                                                                                                                                                                                                                                                                                                                                                                                                                                                                                                                                                                                                                                                                                                                         \n",
       "\n",
       "     pred_label  \n",
       "615  0.388506    \n",
       "616  0.388506    \n",
       "617  0.388506    \n",
       "619  0.388506    \n",
       "620  0.388506    "
      ]
     },
     "metadata": {},
     "output_type": "display_data"
    }
   ],
   "source": [
    "# You can filter for unlabeled data\n",
    "try:\n",
    "    df_unlabeled = df_train[~df_train.index.isin(df_train_filtered.index)]\n",
    "    display(df_unlabeled.sample(5))\n",
    "except ValueError as e:\n",
    "    print(\"ValueError: \")\n",
    "    print(e)\n",
    "    label_sums = (L_train != -1).sum(axis=1)\n",
    "    print(\"\\nExamples with lowest coverage: ({})\".format(min(label_sums)))\n",
    "    display(df_train[label_sums == min(label_sums)].head())"
   ]
  },
  {
   "cell_type": "markdown",
   "metadata": {},
   "source": [
    "## Analyze Results\n",
    "Evaluate the accuracy of the estimated training labels and development set labels (based on ground truth).\n",
    "\n",
    "`Polarity` describes the set of outputs of each function, not including `ABSTAIN (-1)`.\n",
    "For example, a function that returns `ABSTAIN` or `GUNS` has polarity `[1]`"
   ]
  },
  {
   "cell_type": "code",
   "execution_count": 19,
   "metadata": {},
   "outputs": [
    {
     "data": {
      "text/plain": [
       "'Training set results:'"
      ]
     },
     "metadata": {},
     "output_type": "display_data"
    },
    {
     "data": {
      "text/html": [
       "<div>\n",
       "<style scoped>\n",
       "    .dataframe tbody tr th:only-of-type {\n",
       "        vertical-align: middle;\n",
       "    }\n",
       "\n",
       "    .dataframe tbody tr th {\n",
       "        vertical-align: top;\n",
       "    }\n",
       "\n",
       "    .dataframe thead th {\n",
       "        text-align: right;\n",
       "    }\n",
       "</style>\n",
       "<table border=\"1\" class=\"dataframe\">\n",
       "  <thead>\n",
       "    <tr style=\"text-align: right;\">\n",
       "      <th></th>\n",
       "      <th>j</th>\n",
       "      <th>Polarity</th>\n",
       "      <th>Coverage</th>\n",
       "      <th>Overlaps</th>\n",
       "      <th>Conflicts</th>\n",
       "    </tr>\n",
       "  </thead>\n",
       "  <tbody>\n",
       "    <tr>\n",
       "      <th>lf0</th>\n",
       "      <td>0</td>\n",
       "      <td>[1]</td>\n",
       "      <td>0.088050</td>\n",
       "      <td>0.088050</td>\n",
       "      <td>0.000000</td>\n",
       "    </tr>\n",
       "    <tr>\n",
       "      <th>lf1</th>\n",
       "      <td>1</td>\n",
       "      <td>[0]</td>\n",
       "      <td>0.002096</td>\n",
       "      <td>0.002096</td>\n",
       "      <td>0.002096</td>\n",
       "    </tr>\n",
       "    <tr>\n",
       "      <th>lf2</th>\n",
       "      <td>2</td>\n",
       "      <td>[0, 1]</td>\n",
       "      <td>1.000000</td>\n",
       "      <td>0.090147</td>\n",
       "      <td>0.002096</td>\n",
       "    </tr>\n",
       "    <tr>\n",
       "      <th>lf3</th>\n",
       "      <td>3</td>\n",
       "      <td>[]</td>\n",
       "      <td>0.000000</td>\n",
       "      <td>0.000000</td>\n",
       "      <td>0.000000</td>\n",
       "    </tr>\n",
       "    <tr>\n",
       "      <th>lf4</th>\n",
       "      <td>4</td>\n",
       "      <td>[]</td>\n",
       "      <td>0.000000</td>\n",
       "      <td>0.000000</td>\n",
       "      <td>0.000000</td>\n",
       "    </tr>\n",
       "  </tbody>\n",
       "</table>\n",
       "</div>"
      ],
      "text/plain": [
       "     j Polarity  Coverage  Overlaps  Conflicts\n",
       "lf0  0  [1]      0.088050  0.088050  0.000000 \n",
       "lf1  1  [0]      0.002096  0.002096  0.002096 \n",
       "lf2  2  [0, 1]   1.000000  0.090147  0.002096 \n",
       "lf3  3  []       0.000000  0.000000  0.000000 \n",
       "lf4  4  []       0.000000  0.000000  0.000000 "
      ]
     },
     "metadata": {},
     "output_type": "display_data"
    }
   ],
   "source": [
    "train_analysis = LFAnalysis(L=L_train, lfs=lfs).lf_summary()\n",
    "display(\"Training set results:\", train_analysis)"
   ]
  },
  {
   "cell_type": "code",
   "execution_count": 20,
   "metadata": {},
   "outputs": [
    {
     "data": {
      "text/plain": [
       "'Dev set results:'"
      ]
     },
     "metadata": {},
     "output_type": "display_data"
    },
    {
     "data": {
      "text/html": [
       "<div>\n",
       "<style scoped>\n",
       "    .dataframe tbody tr th:only-of-type {\n",
       "        vertical-align: middle;\n",
       "    }\n",
       "\n",
       "    .dataframe tbody tr th {\n",
       "        vertical-align: top;\n",
       "    }\n",
       "\n",
       "    .dataframe thead th {\n",
       "        text-align: right;\n",
       "    }\n",
       "</style>\n",
       "<table border=\"1\" class=\"dataframe\">\n",
       "  <thead>\n",
       "    <tr style=\"text-align: right;\">\n",
       "      <th></th>\n",
       "      <th>j</th>\n",
       "      <th>Polarity</th>\n",
       "      <th>Coverage</th>\n",
       "      <th>Overlaps</th>\n",
       "      <th>Conflicts</th>\n",
       "      <th>Correct</th>\n",
       "      <th>Incorrect</th>\n",
       "      <th>Emp. Acc.</th>\n",
       "    </tr>\n",
       "  </thead>\n",
       "  <tbody>\n",
       "    <tr>\n",
       "      <th>lf0</th>\n",
       "      <td>0</td>\n",
       "      <td>[1]</td>\n",
       "      <td>0.0675</td>\n",
       "      <td>0.0675</td>\n",
       "      <td>0.000</td>\n",
       "      <td>27</td>\n",
       "      <td>0</td>\n",
       "      <td>1.00</td>\n",
       "    </tr>\n",
       "    <tr>\n",
       "      <th>lf1</th>\n",
       "      <td>1</td>\n",
       "      <td>[0]</td>\n",
       "      <td>0.0050</td>\n",
       "      <td>0.0050</td>\n",
       "      <td>0.005</td>\n",
       "      <td>2</td>\n",
       "      <td>0</td>\n",
       "      <td>1.00</td>\n",
       "    </tr>\n",
       "    <tr>\n",
       "      <th>lf2</th>\n",
       "      <td>2</td>\n",
       "      <td>[0, 1]</td>\n",
       "      <td>1.0000</td>\n",
       "      <td>0.0725</td>\n",
       "      <td>0.005</td>\n",
       "      <td>190</td>\n",
       "      <td>0</td>\n",
       "      <td>0.48</td>\n",
       "    </tr>\n",
       "    <tr>\n",
       "      <th>lf3</th>\n",
       "      <td>3</td>\n",
       "      <td>[]</td>\n",
       "      <td>0.0000</td>\n",
       "      <td>0.0000</td>\n",
       "      <td>0.000</td>\n",
       "      <td>0</td>\n",
       "      <td>0</td>\n",
       "      <td>0.00</td>\n",
       "    </tr>\n",
       "    <tr>\n",
       "      <th>lf4</th>\n",
       "      <td>4</td>\n",
       "      <td>[]</td>\n",
       "      <td>0.0000</td>\n",
       "      <td>0.0000</td>\n",
       "      <td>0.000</td>\n",
       "      <td>0</td>\n",
       "      <td>0</td>\n",
       "      <td>0.00</td>\n",
       "    </tr>\n",
       "  </tbody>\n",
       "</table>\n",
       "</div>"
      ],
      "text/plain": [
       "     j Polarity  Coverage  Overlaps  Conflicts  Correct  Incorrect  Emp. Acc.\n",
       "lf0  0  [1]      0.0675    0.0675    0.000      27       0          1.00     \n",
       "lf1  1  [0]      0.0050    0.0050    0.005      2        0          1.00     \n",
       "lf2  2  [0, 1]   1.0000    0.0725    0.005      190      0          0.48     \n",
       "lf3  3  []       0.0000    0.0000    0.000      0        0          0.00     \n",
       "lf4  4  []       0.0000    0.0000    0.000      0        0          0.00     "
      ]
     },
     "metadata": {},
     "output_type": "display_data"
    }
   ],
   "source": [
    "Y_dev = df_dev.label.values\n",
    "dev_analysis = LFAnalysis(L=L_dev, lfs=lfs).lf_summary(Y=Y_dev)\n",
    "display(\"Dev set results:\", dev_analysis)"
   ]
  },
  {
   "cell_type": "markdown",
   "metadata": {},
   "source": [
    "## Save the Model\n",
    "When you have finished"
   ]
  },
  {
   "cell_type": "code",
   "execution_count": 21,
   "metadata": {},
   "outputs": [],
   "source": [
    "label_model.save(\"snorkel_tutorial_lfmodel.pkl\")\n",
    "stat_history.to_csv(\"snorkel_tutorial_statistics_history.csv\")"
   ]
  },
  {
   "cell_type": "markdown",
   "metadata": {},
   "source": [
    "## Train Model\n",
    "We can train a simple bag of words model on these labels, and see test accuracy.\n",
    "\n",
    "(This step may take a while)."
   ]
  },
  {
   "cell_type": "code",
   "execution_count": 22,
   "metadata": {},
   "outputs": [
    {
     "name": "stdout",
     "output_type": "stream",
     "text": [
      "477 out of 477 examples used for training data\n",
      "WARNING:tensorflow:Falling back from v2 loop because of error: Failed to find data adapter that can handle input: <class 'scipy.sparse.csr.csr_matrix'>, <class 'NoneType'>\n"
     ]
    },
    {
     "name": "stderr",
     "output_type": "stream",
     "text": [
      "WARNING:tensorflow:Falling back from v2 loop because of error: Failed to find data adapter that can handle input: <class 'scipy.sparse.csr.csr_matrix'>, <class 'NoneType'>\n"
     ]
    },
    {
     "name": "stdout",
     "output_type": "stream",
     "text": [
      "Restoring model weights from the end of the best epoch.\n",
      "Epoch 00032: early stopping\n",
      "WARNING:tensorflow:Falling back from v2 loop because of error: Failed to find data adapter that can handle input: <class 'scipy.sparse.csr.csr_matrix'>, <class 'NoneType'>\n"
     ]
    },
    {
     "name": "stderr",
     "output_type": "stream",
     "text": [
      "WARNING:tensorflow:Falling back from v2 loop because of error: Failed to find data adapter that can handle input: <class 'scipy.sparse.csr.csr_matrix'>, <class 'NoneType'>\n"
     ]
    },
    {
     "name": "stdout",
     "output_type": "stream",
     "text": [
      "Test Accuracy: 60.0%\n"
     ]
    }
   ],
   "source": [
    "train_model(label_model, df_train, df_valid, df_test, L_train)"
   ]
  },
  {
   "cell_type": "code",
   "execution_count": 23,
   "metadata": {},
   "outputs": [
    {
     "name": "stdout",
     "output_type": "stream",
     "text": [
      "[[ 1 -1  1 -1 -1]\n",
      " [ 1 -1  1 -1 -1]\n",
      " [-1 -1  1 -1 -1]\n",
      " ...\n",
      " [-1 -1  1 -1 -1]\n",
      " [-1 -1  1 -1 -1]\n",
      " [-1 -1  1 -1 -1]]\n"
     ]
    }
   ],
   "source": [
    "print(L_train)"
   ]
  },
  {
   "cell_type": "code",
   "execution_count": null,
   "metadata": {},
   "outputs": [],
   "source": []
  }
 ],
 "metadata": {
  "kernelspec": {
   "display_name": "Python 3",
   "language": "python",
   "name": "python3"
  },
  "language_info": {
   "codemirror_mode": {
    "name": "ipython",
    "version": 3
   },
   "file_extension": ".py",
   "mimetype": "text/x-python",
   "name": "python",
   "nbconvert_exporter": "python",
   "pygments_lexer": "ipython3",
   "version": "3.7.3"
  }
 },
 "nbformat": 4,
 "nbformat_minor": 2
}
