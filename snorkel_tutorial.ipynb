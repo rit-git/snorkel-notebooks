{
 "cells": [
  {
   "cell_type": "markdown",
   "metadata": {},
   "source": [
    "# Snorkel Tutorial\n",
    "\n",
    "### You will work with Wikipedia plot descriptions of films that are either comedy or drama.\n",
    "\n",
    "First, import necessary libraries:"
   ]
  },
  {
   "cell_type": "code",
   "execution_count": 3,
   "metadata": {},
   "outputs": [],
   "source": [
    "from data.preparer import load_film_dataset\n",
    "from snorkel.labeling import labeling_function\n",
    "from snorkel.labeling import LabelModel\n",
    "from snorkel.labeling import LFAnalysis\n",
    "from snorkel.labeling import PandasLFApplier\n",
    "from analyzer import train_model\n",
    "import re\n",
    "import pandas as pd\n",
    "pd.set_option('display.max_colwidth', -1)"
   ]
  },
  {
   "cell_type": "markdown",
   "metadata": {},
   "source": [
    "## The Data\n",
    "\n",
    "These plot descriptions are from [Kaggle](https://www.kaggle.com/jrobischon/wikipedia-movie-plots).\n",
    "You will be labeling films as either \"comedy\" or \"drama\" based on their plot descriptions."
   ]
  },
  {
   "cell_type": "markdown",
   "metadata": {},
   "source": [
    "Replace PASSWORD with the password to unzip the data, or download it directly from Kaggle."
   ]
  },
  {
   "cell_type": "code",
   "execution_count": null,
   "metadata": {},
   "outputs": [],
   "source": [
    "!unzip -P PASSWORD data/data.zip"
   ]
  },
  {
   "cell_type": "code",
   "execution_count": 5,
   "metadata": {},
   "outputs": [
    {
     "name": "stdout",
     "output_type": "stream",
     "text": [
      "8343 training examples\n",
      "500 development examples\n",
      "500 validation examples\n",
      "1000 test examples\n"
     ]
    }
   ],
   "source": [
    "df_train, df_dev, df_valid, df_test = load_film_dataset()\n",
    "print(\"{} training examples\".format(len(df_train)))\n",
    "print(\"{} development examples\".format(len(df_dev)))\n",
    "print(\"{} validation examples\".format(len(df_valid)))\n",
    "print(\"{} test examples\".format(len(df_test)))"
   ]
  },
  {
   "cell_type": "markdown",
   "metadata": {},
   "source": [
    "Define the labels for this task:"
   ]
  },
  {
   "cell_type": "code",
   "execution_count": 6,
   "metadata": {},
   "outputs": [],
   "source": [
    "ABSTAIN = -1\n",
    "DRAMA = 0\n",
    "COMEDY = 1"
   ]
  },
  {
   "cell_type": "code",
   "execution_count": 7,
   "metadata": {},
   "outputs": [
    {
     "name": "stdout",
     "output_type": "stream",
     "text": [
      "Some labeled examples: \n"
     ]
    },
    {
     "data": {
      "text/html": [
       "<div>\n",
       "<style scoped>\n",
       "    .dataframe tbody tr th:only-of-type {\n",
       "        vertical-align: middle;\n",
       "    }\n",
       "\n",
       "    .dataframe tbody tr th {\n",
       "        vertical-align: top;\n",
       "    }\n",
       "\n",
       "    .dataframe thead th {\n",
       "        text-align: right;\n",
       "    }\n",
       "</style>\n",
       "<table border=\"1\" class=\"dataframe\">\n",
       "  <thead>\n",
       "    <tr style=\"text-align: right;\">\n",
       "      <th></th>\n",
       "      <th>text</th>\n",
       "      <th>label</th>\n",
       "      <th>Genre</th>\n",
       "      <th>Title</th>\n",
       "    </tr>\n",
       "  </thead>\n",
       "  <tbody>\n",
       "    <tr>\n",
       "      <th>1925</th>\n",
       "      <td>Ocean Heaven is about a terminally ill father, Sam Wong/Wang Xincheng (Jet Li) as he works his job in an aquarium and struggles to look after his 21-year-old son Dafu/David, who has autism (Wen Zhang). Sam has single-handedly brought up his son since his wife died in a swimming accident 14 years ago and looks after him day and night. Upon discovering Sam has less than five months to live, he multiplies his efforts to help Dafu learn basic tasks in order to care for himself, as well as searching for a home for him, before he passes away. As the story progresses, the growing relationship between father and son, as well as the community around them, become clearer. Ling ling (Gwei Lun-mei) plays the role of a clown who is part of a small traveling circus (they perform in the aquarium for a short period of time) and who gets on well with Dafu, leading to a close friendship between them.\\r\\nThough Dafu struggles to learn many basic tasks, Sam perseveres in teaching his son the tasks that he will need to know how to perform himself once his father dies. Though Sam never gave up teaching and explaining things to Dafu in a positive and supportive and memorable manner, he did contemplate ending his and Dafu's existence together rather than leave his child to suffer without him. Sam, at this point had yet to tell anyone how far his health had deteriorated, until one day while returning from their hometown, his neighbor tells Sam his doctor came from the city with bags of free medicine and waited two hours for him. Meanwhile, Principal Liu, of the boarding school for mentally challenged children that Dafu attended as a child, recommends Dafu to a newly opened institution where he can stay after his father dies.\\r\\nDafu continues learning, though Sam must move into the institution with him to help him adjust. Ling Ling, knowing that she is about to have to leave with her circus, teaches Dafu to pick up the phone in the aquarium when he hears it, and she will talk to him.\\r\\nLing Ling leaves with her circus. Sam, for the first time in the movie, swims in the aquarium with his son, dressed in a sea turtle costume he made by hand, telling his son not to be afraid when he is gone; he will be like the turtles in the aquarium, always swimming close by with him. He almost drowns but is helped from water by Mr. Tang and while they chat, Sam reveals his wife's death might not have been an accident as she was a very good swimmer and they had recently found out Dafu is autistic. Sam doesn't blame her for not being able to handle their son's circumstances. There was only one instance in which Sam loses his composure with Dafu, while he is nearing the end, and still working and trying to teach his son how to do his job, Dafu is distracted and Sam yells at him. Less than a moment later and Sam is already mending fences and reassuring his son.\\r\\nSam eventually dies, and his funeral is attended by close friends and family. Dafu waves good bye to the sky/Sam, as it seems he has learned people live there, something Ling Ling explained to him earlier when she spoke of her grandmother with him before she left town. After the funeral, Dafu is seen doing some of the things that his father struggled so much to teach him with success. He cooks by himself, knows how to ride the bus, and picks up the phone when Ling Ling calls, and working at the ocean park, a place Mr. has opened the doors for Dafu at any time of the day. It is implied that from then on, Dafu will know how to lead his life on his own, though he still has Sam's old friends helping him along the way.</td>\n",
       "      <td>0</td>\n",
       "      <td>drama</td>\n",
       "      <td>Ocean Heaven</td>\n",
       "    </tr>\n",
       "    <tr>\n",
       "      <th>1772</th>\n",
       "      <td>Terry Scott (Ginger Rogers), who is separated from her husband, and unhappily married David Campbell (Dennis Morgan), the father of two children, meet when they are selected to serve on the jury of the Los Angeles trial of Ernest Craig (Ford Rainey). The defendant is charged with murdering his wife when she refused to grant him a divorce. While sequestered during the lengthy proceedings, Terry and David get to know each other and fall in love. Some dramatic tension is added to the plot by juror Isobel Bradford (Margalo Gillmore), a snobby socialite who tries to sway the panel to vote for the death penalty.</td>\n",
       "      <td>0</td>\n",
       "      <td>drama</td>\n",
       "      <td>Perfect Strangers</td>\n",
       "    </tr>\n",
       "    <tr>\n",
       "      <th>1904</th>\n",
       "      <td>Manaf Hussain Kalabhavan Mani is a painter cum dramatist. Ramu (Kannan) is his assistant. Madhuri (Vidya) is a Bollywood star who has found inspiration in their play and has agreed to be a part of it. The story that Manaf decides to adapt for the stage is that of Yayathi's, the celebrated king of the Lunar dynasty who falls in love with both Devayani and Sharmishta. The movie talks about the relevance of the story and how it could serve as a metaphor for the modern times.</td>\n",
       "      <td>0</td>\n",
       "      <td>drama</td>\n",
       "      <td>Canvas</td>\n",
       "    </tr>\n",
       "    <tr>\n",
       "      <th>1975</th>\n",
       "      <td>The film is set in 1969 Morrison, Alabama. The Caldwell family includes three World War II veterans—brothers played by Thornton, Bacon and Patrick—their sister Donna (LaNasa), and a patriarch, Jim Caldwell (Duvall), who is a World War I veteran. The Caldwells are involved in a cultural clash with the Bedfords, a family which includes Phillip (Stevenson), a World War II veteran, his sister Camilla (O'Connor), and their father Kingsley (Hurt), also a World War I veteran.\\r\\nThe Bedfords are a London family who, as is revealed in the film, are in the Caldwell hometown for the funeral of Kingsley's wife, who is the ex-wife of Jim Caldwell and the mother of Caldwell's children. Duvall described the film in an interview as \"putting Tennessee Williams in the back seat\".[9]\\r\\nThe film's title refers to the automobile in which movie star Jayne Mansfield was supposedly decapitated in 1967. When a nearby town has a side show displaying the vehicle, Jim Caldwell takes Kingsley Bedford along to gawk at the grisly artifact.</td>\n",
       "      <td>0</td>\n",
       "      <td>drama</td>\n",
       "      <td>Jayne Mansfield's Car</td>\n",
       "    </tr>\n",
       "    <tr>\n",
       "      <th>1773</th>\n",
       "      <td>A veteran worker refuses to accept when he has retirement forced upon him by his employers.</td>\n",
       "      <td>0</td>\n",
       "      <td>drama</td>\n",
       "      <td>The End of the Road</td>\n",
       "    </tr>\n",
       "  </tbody>\n",
       "</table>\n",
       "</div>"
      ],
      "text/plain": [
       "                                                                                                                                                                                                                                                                                                                                                                                                                                                                                                                                                                                                                                                                                                                                                                                                                                                                                                                                                                                                                                                                                                                                                                                                                                                                                                                                                                                                                                                                                                                                                                                                                                                                                                                                                                                                                                                                                                                                                                                                                                                                                                                                                                                                                                                                                                                                                                                                                                                                                                                                                                                                                                                                                                                                                                                                                                                                                                                                                                                                                                                                                                                                                                                                                                                                                                                                                                                                                                                                                                                                                                                                                                                                                                                                             text  \\\n",
       "1925  Ocean Heaven is about a terminally ill father, Sam Wong/Wang Xincheng (Jet Li) as he works his job in an aquarium and struggles to look after his 21-year-old son Dafu/David, who has autism (Wen Zhang). Sam has single-handedly brought up his son since his wife died in a swimming accident 14 years ago and looks after him day and night. Upon discovering Sam has less than five months to live, he multiplies his efforts to help Dafu learn basic tasks in order to care for himself, as well as searching for a home for him, before he passes away. As the story progresses, the growing relationship between father and son, as well as the community around them, become clearer. Ling ling (Gwei Lun-mei) plays the role of a clown who is part of a small traveling circus (they perform in the aquarium for a short period of time) and who gets on well with Dafu, leading to a close friendship between them.\\r\\nThough Dafu struggles to learn many basic tasks, Sam perseveres in teaching his son the tasks that he will need to know how to perform himself once his father dies. Though Sam never gave up teaching and explaining things to Dafu in a positive and supportive and memorable manner, he did contemplate ending his and Dafu's existence together rather than leave his child to suffer without him. Sam, at this point had yet to tell anyone how far his health had deteriorated, until one day while returning from their hometown, his neighbor tells Sam his doctor came from the city with bags of free medicine and waited two hours for him. Meanwhile, Principal Liu, of the boarding school for mentally challenged children that Dafu attended as a child, recommends Dafu to a newly opened institution where he can stay after his father dies.\\r\\nDafu continues learning, though Sam must move into the institution with him to help him adjust. Ling Ling, knowing that she is about to have to leave with her circus, teaches Dafu to pick up the phone in the aquarium when he hears it, and she will talk to him.\\r\\nLing Ling leaves with her circus. Sam, for the first time in the movie, swims in the aquarium with his son, dressed in a sea turtle costume he made by hand, telling his son not to be afraid when he is gone; he will be like the turtles in the aquarium, always swimming close by with him. He almost drowns but is helped from water by Mr. Tang and while they chat, Sam reveals his wife's death might not have been an accident as she was a very good swimmer and they had recently found out Dafu is autistic. Sam doesn't blame her for not being able to handle their son's circumstances. There was only one instance in which Sam loses his composure with Dafu, while he is nearing the end, and still working and trying to teach his son how to do his job, Dafu is distracted and Sam yells at him. Less than a moment later and Sam is already mending fences and reassuring his son.\\r\\nSam eventually dies, and his funeral is attended by close friends and family. Dafu waves good bye to the sky/Sam, as it seems he has learned people live there, something Ling Ling explained to him earlier when she spoke of her grandmother with him before she left town. After the funeral, Dafu is seen doing some of the things that his father struggled so much to teach him with success. He cooks by himself, knows how to ride the bus, and picks up the phone when Ling Ling calls, and working at the ocean park, a place Mr. has opened the doors for Dafu at any time of the day. It is implied that from then on, Dafu will know how to lead his life on his own, though he still has Sam's old friends helping him along the way.   \n",
       "1772  Terry Scott (Ginger Rogers), who is separated from her husband, and unhappily married David Campbell (Dennis Morgan), the father of two children, meet when they are selected to serve on the jury of the Los Angeles trial of Ernest Craig (Ford Rainey). The defendant is charged with murdering his wife when she refused to grant him a divorce. While sequestered during the lengthy proceedings, Terry and David get to know each other and fall in love. Some dramatic tension is added to the plot by juror Isobel Bradford (Margalo Gillmore), a snobby socialite who tries to sway the panel to vote for the death penalty.                                                                                                                                                                                                                                                                                                                                                                                                                                                                                                                                                                                                                                                                                                                                                                                                                                                                                                                                                                                                                                                                                                                                                                                                                                                                                                                                                                                                                                                                                                                                                                                                                                                                                                                                                                                                                                                                                                                                                                                                                                                                                                                                                                                                                                                                                                                                                                                                                                                                                                                                                                                                                                                                                                                                                                                                                                                                                                                                                                                                                                                                                                         \n",
       "1904  Manaf Hussain Kalabhavan Mani is a painter cum dramatist. Ramu (Kannan) is his assistant. Madhuri (Vidya) is a Bollywood star who has found inspiration in their play and has agreed to be a part of it. The story that Manaf decides to adapt for the stage is that of Yayathi's, the celebrated king of the Lunar dynasty who falls in love with both Devayani and Sharmishta. The movie talks about the relevance of the story and how it could serve as a metaphor for the modern times.                                                                                                                                                                                                                                                                                                                                                                                                                                                                                                                                                                                                                                                                                                                                                                                                                                                                                                                                                                                                                                                                                                                                                                                                                                                                                                                                                                                                                                                                                                                                                                                                                                                                                                                                                                                                                                                                                                                                                                                                                                                                                                                                                                                                                                                                                                                                                                                                                                                                                                                                                                                                                                                                                                                                                                                                                                                                                                                                                                                                                                                                                                                                                                                                                                                  \n",
       "1975  The film is set in 1969 Morrison, Alabama. The Caldwell family includes three World War II veterans—brothers played by Thornton, Bacon and Patrick—their sister Donna (LaNasa), and a patriarch, Jim Caldwell (Duvall), who is a World War I veteran. The Caldwells are involved in a cultural clash with the Bedfords, a family which includes Phillip (Stevenson), a World War II veteran, his sister Camilla (O'Connor), and their father Kingsley (Hurt), also a World War I veteran.\\r\\nThe Bedfords are a London family who, as is revealed in the film, are in the Caldwell hometown for the funeral of Kingsley's wife, who is the ex-wife of Jim Caldwell and the mother of Caldwell's children. Duvall described the film in an interview as \"putting Tennessee Williams in the back seat\".[9]\\r\\nThe film's title refers to the automobile in which movie star Jayne Mansfield was supposedly decapitated in 1967. When a nearby town has a side show displaying the vehicle, Jim Caldwell takes Kingsley Bedford along to gawk at the grisly artifact.                                                                                                                                                                                                                                                                                                                                                                                                                                                                                                                                                                                                                                                                                                                                                                                                                                                                                                                                                                                                                                                                                                                                                                                                                                                                                                                                                                                                                                                                                                                                                                                                                                                                                                                                                                                                                                                                                                                                                                                                                                                                                                                                                                                                                                                                                                                                                                                                                                                                                                                                                                                                                                                                            \n",
       "1773  A veteran worker refuses to accept when he has retirement forced upon him by his employers.                                                                                                                                                                                                                                                                                                                                                                                                                                                                                                                                                                                                                                                                                                                                                                                                                                                                                                                                                                                                                                                                                                                                                                                                                                                                                                                                                                                                                                                                                                                                                                                                                                                                                                                                                                                                                                                                                                                                                                                                                                                                                                                                                                                                                                                                                                                                                                                                                                                                                                                                                                                                                                                                                                                                                                                                                                                                                                                                                                                                                                                                                                                                                                                                                                                                                                                                                                                                                                                                                                                                                                                                                                                   \n",
       "\n",
       "      label  Genre                  Title  \n",
       "1925  0      drama  Ocean Heaven           \n",
       "1772  0      drama  Perfect Strangers      \n",
       "1904  0      drama  Canvas                 \n",
       "1975  0      drama  Jayne Mansfield's Car  \n",
       "1773  0      drama  The End of the Road    "
      ]
     },
     "metadata": {},
     "output_type": "display_data"
    },
    {
     "data": {
      "text/html": [
       "<div>\n",
       "<style scoped>\n",
       "    .dataframe tbody tr th:only-of-type {\n",
       "        vertical-align: middle;\n",
       "    }\n",
       "\n",
       "    .dataframe tbody tr th {\n",
       "        vertical-align: top;\n",
       "    }\n",
       "\n",
       "    .dataframe thead th {\n",
       "        text-align: right;\n",
       "    }\n",
       "</style>\n",
       "<table border=\"1\" class=\"dataframe\">\n",
       "  <thead>\n",
       "    <tr style=\"text-align: right;\">\n",
       "      <th></th>\n",
       "      <th>text</th>\n",
       "      <th>label</th>\n",
       "      <th>Genre</th>\n",
       "      <th>Title</th>\n",
       "    </tr>\n",
       "  </thead>\n",
       "  <tbody>\n",
       "    <tr>\n",
       "      <th>1822</th>\n",
       "      <td>American video game designer Roger Dearly (Daniels) lives with his pet Dalmatian Pongo in London. One day, while waiting for Roger to come from a meeting with Herbert, a young prodigy who rates video games, Pongo sets his eyes on a beautiful female dalmatian named Perdy. After a frantic chase through the streets of London that starts in Soho Square Gardens and ends in St. James' Park, Roger discovers that Pongo likes Perdy. Her owner, House of De Vil fashion designer Anita Campbell-Green (Richardson), falls in love with Roger when they meet. They both fall into the pond as a result of their dogs chasing each other, but they return to Roger's home and Anita accepts his proposal. They get married at St. Luke's Church, Chelsea along with Perdy and Pongo. Meanwhile, Anita's boss, the pampered and very glamorous Cruella de Vil (Close), has a deep passion for fur, going so far as to have a taxidermist, Mr. Skinner (John Shrapnel), skin Soo-Ling, a white tiger at the London Zoo, to make it into a rug for her. Anita, inspired by her Dalmatian, designs a coat made with spotted fur. Cruella is intrigued by the idea of making garments out of actual Dalmatians and finds it amusing that it would seem as if she was wearing Anita's dog. Anita soon discovers that Perdy is pregnant and is then informed by Nanny (Plowright)that she (Anita) is, too, much to her shock. Sometime later, Cruella visits their home and expresses contempt upon meeting Roger. Her initial disgust at them having a baby turns to excitement when she finds out Perdy is expecting too. Several weeks later, she returns when a litter of 15 puppies are born and offers Roger and Anita £7,500 for them, but they refuse. Enraged, Cruella dismisses Anita and vows revenge against her, Roger and Nanny. One winter evening, she has her henchmen, Jasper and Horace (Laurie and Williams, respectively) break into their home and steal the puppies, while Roger and Anita are walking in the park with Pongo and Perdy. Along with 84 other dalmatians that were previously stolen, they deliver them to her ancient country estate, De Vil Mansion. Jasper and Horace also ask Skinner to kill and skin them to create her coat. With the family devastated at the loss of their puppies, Pongo uses the twilight bark to carry the message via the dogs and other animals of London, while Roger and Anita notify the Metropolitan Police. A dog who had witnessed the stolen puppies follows Jasper and Horace to the mansion and finds all of them inside, before helping them escape under the duo's noses. They make their way to a nearby farm, where they are later joined by Pongo and Perdy. Cruella arrives at the mansion and soon discovers what has happened. Angry with the thieves' failure, she decides to carry out the job herself, while Jasper and Horace attempt to search for them also. After several mishaps, Jasper and Horace discover nearby police on the hunt for Cruella and her henchmen and hand themselves in, joining Skinner who was beaten earlier while trying to kill Lucky, one of the 15 puppies who had been left behind. Meanwhile, Cruella tracks the puppies to the farm where they are hiding and tries to retrieve them. However, the animals outwit her, cause her to fall into a vat of molasses and get thrown through a window into a pig pen. Shortly afterwards, the fleeing dalmatians (including Lucky) are found and sent home via the Suffolk Constabulary, while those looking for Cruella arrive at the farm to arrest her. In the police van, she belittles Jasper, Horace and Skinner for their incompetence before they are sprayed by a skunk which she had mistaken for her bag. Pongo, Perdy and their puppies are reunited with Roger and Anita. After being informed that the remaining 84 puppies have no home to go to, as they have not yet been claimed by their original owners, they decide to adopt them, bringing the total to 101. Roger designs a successful video game featuring dalmatian puppies as the protagonists and Cruella as the villain and they move to the countryside with their millions. Roger and Anita have a baby daughter, and a year later the puppies have grown up with puppies of their own.</td>\n",
       "      <td>1</td>\n",
       "      <td>comedy</td>\n",
       "      <td>101 Dalmatians</td>\n",
       "    </tr>\n",
       "    <tr>\n",
       "      <th>1585</th>\n",
       "      <td>Three young Russians from very different walks of life involutarily enter the military to escape their past.[1]</td>\n",
       "      <td>1</td>\n",
       "      <td>comedy</td>\n",
       "      <td>Demobbed</td>\n",
       "    </tr>\n",
       "    <tr>\n",
       "      <th>1861</th>\n",
       "      <td>Botany professor Anant Patil falls in love with Sulkeha and marries her to the dismay of Sulekha's brother in law, Raghav Joshi. Raghav refuses to attend the wedding. But Anant decides to turn the tables on Raghav and teach him a lesson.</td>\n",
       "      <td>1</td>\n",
       "      <td>comedy</td>\n",
       "      <td>Joke falls</td>\n",
       "    </tr>\n",
       "    <tr>\n",
       "      <th>1801</th>\n",
       "      <td>The Bowery Boys' landlady Mrs. Kelly believes in a theory proposed by Dr. Simon Noble that through hypnosis, one can regress into a former life, or lives, from the past. Sach is hypnotized and recounts stories from several past lives. Evidently Sach once lived as Algy Winkle, an English tax collector in Charleston, South Carolina. Winkle managed to get a map from the famous pirate Captain Blackbeard leading to buried treasure, which becomes the focal point of the story.</td>\n",
       "      <td>1</td>\n",
       "      <td>comedy</td>\n",
       "      <td>Hold That Hypnotist</td>\n",
       "    </tr>\n",
       "    <tr>\n",
       "      <th>1764</th>\n",
       "      <td>Driving through Alabama in their 1964 Buick Skylark convertible, Billy Gambini and Stan Rothenstein, college students from New York who just got scholarships to UCLA, shop at a convenience store and accidentally shoplift a can of tuna. After they leave, the store clerk is robbed and killed, and Billy and Stan are arrested for the murder. Due to circumstantial evidence and a confession to the shoplifting that is misconstrued as one to the shooting, Billy is charged with murder, and Stan as an accessory. Billy's mother reminds him there is an attorney in the family: his cousin Vinny. Vincent LaGuardia Gambini travels there, accompanied by his fiancée, Mona Lisa Vito. Although he is willing to take the case, Vinny is a personal injury lawyer from Brooklyn, newly admitted to the bar, and with no trial experience.\\r\\nVinny manages to fool the trial judge, Chamberlain Haller, about being experienced enough for the case. His ignorance of basic courtroom procedures, dress code, and his abrasive attitude cause the judge to repeatedly hold him in contempt. Much to his clients' consternation, Vinny does not cross-examine any of the witnesses in the preliminary hearing. Except for lack of a murder weapon, it appears that the district attorney, Jim Trotter III, has a strong case that will lead to convictions. After Vinny's poor showing at the hearing, Stan fires him and uses the public defender, John Gibbons, and nearly convinces Billy to do the same.\\r\\nDespite his missteps, Vinny shows that he is able to make up for his inexperience with an aggressive and perceptive questioning style. Vinny quickly discredits the testimony of the first three witnesses, and Billy and Stan's faith is restored.\\r\\nOn the trial's third day, Trotter produces a surprise witness, FBI analyst George Wilbur, who testifies that the pattern and chemical analysis of the tire marks left at the crime scene are identical to the tires on Billy's Buick. With only the lunch recess to prepare his cross-examination and unable to come up with a strong line of questioning, Vinny lashes out at Lisa. However, Vinny realizes that one of Lisa's photos holds the key to the case: the flat and even tire marks going over the curb reveal that Billy's car could not have been used for the getaway.\\r\\nAfter requesting a records search from the local sheriff, Vinny drags Lisa into court to testify as an expert witness. During Vinny's questioning, Lisa testifies that only a car with an independent rear suspension and positraction could have made the tire marks, which rules out Billy's 1964 Buick Skylark. However, one model of car with these features is the similar-looking 1963 Pontiac Tempest. Vinny re-calls George Wilbur, who confirms this. Vinny then re-calls the local sheriff, who testifies that two men who fit Billy and Stan's descriptions were just arrested in Georgia for driving a stolen green Pontiac Tempest, and were in possession of a gun of the same caliber used to kill the clerk. Trotter moves to dismiss all charges. The judge congratulates Vinny and, as they drive away, he and Lisa bicker about their wedding plans.</td>\n",
       "      <td>1</td>\n",
       "      <td>comedy</td>\n",
       "      <td>My Cousin Vinny</td>\n",
       "    </tr>\n",
       "  </tbody>\n",
       "</table>\n",
       "</div>"
      ],
      "text/plain": [
       "                                                                                                                                                                                                                                                                                                                                                                                                                                                                                                                                                                                                                                                                                                                                                                                                                                                                                                                                                                                                                                                                                                                                                                                                                                                                                                                                                                                                                                                                                                                                                                                                                                                                                                                                                                                                                                                                                                                                                                                                                                                                                                                                                                                                                                                                                                                                                                                                                                                                                                                                                                                                                                                                                                                                                                                                                                                                                                                                                                                                                                                                                                                                                                                                                                                                                                                                                                                                                                                                                                                                                                                                                                                                                                                                                                                                                                                                                                                                                                                                                                                                                                                                                                                                                                                                                                                                         text  \\\n",
       "1822  American video game designer Roger Dearly (Daniels) lives with his pet Dalmatian Pongo in London. One day, while waiting for Roger to come from a meeting with Herbert, a young prodigy who rates video games, Pongo sets his eyes on a beautiful female dalmatian named Perdy. After a frantic chase through the streets of London that starts in Soho Square Gardens and ends in St. James' Park, Roger discovers that Pongo likes Perdy. Her owner, House of De Vil fashion designer Anita Campbell-Green (Richardson), falls in love with Roger when they meet. They both fall into the pond as a result of their dogs chasing each other, but they return to Roger's home and Anita accepts his proposal. They get married at St. Luke's Church, Chelsea along with Perdy and Pongo. Meanwhile, Anita's boss, the pampered and very glamorous Cruella de Vil (Close), has a deep passion for fur, going so far as to have a taxidermist, Mr. Skinner (John Shrapnel), skin Soo-Ling, a white tiger at the London Zoo, to make it into a rug for her. Anita, inspired by her Dalmatian, designs a coat made with spotted fur. Cruella is intrigued by the idea of making garments out of actual Dalmatians and finds it amusing that it would seem as if she was wearing Anita's dog. Anita soon discovers that Perdy is pregnant and is then informed by Nanny (Plowright)that she (Anita) is, too, much to her shock. Sometime later, Cruella visits their home and expresses contempt upon meeting Roger. Her initial disgust at them having a baby turns to excitement when she finds out Perdy is expecting too. Several weeks later, she returns when a litter of 15 puppies are born and offers Roger and Anita £7,500 for them, but they refuse. Enraged, Cruella dismisses Anita and vows revenge against her, Roger and Nanny. One winter evening, she has her henchmen, Jasper and Horace (Laurie and Williams, respectively) break into their home and steal the puppies, while Roger and Anita are walking in the park with Pongo and Perdy. Along with 84 other dalmatians that were previously stolen, they deliver them to her ancient country estate, De Vil Mansion. Jasper and Horace also ask Skinner to kill and skin them to create her coat. With the family devastated at the loss of their puppies, Pongo uses the twilight bark to carry the message via the dogs and other animals of London, while Roger and Anita notify the Metropolitan Police. A dog who had witnessed the stolen puppies follows Jasper and Horace to the mansion and finds all of them inside, before helping them escape under the duo's noses. They make their way to a nearby farm, where they are later joined by Pongo and Perdy. Cruella arrives at the mansion and soon discovers what has happened. Angry with the thieves' failure, she decides to carry out the job herself, while Jasper and Horace attempt to search for them also. After several mishaps, Jasper and Horace discover nearby police on the hunt for Cruella and her henchmen and hand themselves in, joining Skinner who was beaten earlier while trying to kill Lucky, one of the 15 puppies who had been left behind. Meanwhile, Cruella tracks the puppies to the farm where they are hiding and tries to retrieve them. However, the animals outwit her, cause her to fall into a vat of molasses and get thrown through a window into a pig pen. Shortly afterwards, the fleeing dalmatians (including Lucky) are found and sent home via the Suffolk Constabulary, while those looking for Cruella arrive at the farm to arrest her. In the police van, she belittles Jasper, Horace and Skinner for their incompetence before they are sprayed by a skunk which she had mistaken for her bag. Pongo, Perdy and their puppies are reunited with Roger and Anita. After being informed that the remaining 84 puppies have no home to go to, as they have not yet been claimed by their original owners, they decide to adopt them, bringing the total to 101. Roger designs a successful video game featuring dalmatian puppies as the protagonists and Cruella as the villain and they move to the countryside with their millions. Roger and Anita have a baby daughter, and a year later the puppies have grown up with puppies of their own.   \n",
       "1585  Three young Russians from very different walks of life involutarily enter the military to escape their past.[1]                                                                                                                                                                                                                                                                                                                                                                                                                                                                                                                                                                                                                                                                                                                                                                                                                                                                                                                                                                                                                                                                                                                                                                                                                                                                                                                                                                                                                                                                                                                                                                                                                                                                                                                                                                                                                                                                                                                                                                                                                                                                                                                                                                                                                                                                                                                                                                                                                                                                                                                                                                                                                                                                                                                                                                                                                                                                                                                                                                                                                                                                                                                                                                                                                                                                                                                                                                                                                                                                                                                                                                                                                                                                                                                                                                                                                                                                                                                                                                                                                                                                                                                                                                                                                           \n",
       "1861  Botany professor Anant Patil falls in love with Sulkeha and marries her to the dismay of Sulekha's brother in law, Raghav Joshi. Raghav refuses to attend the wedding. But Anant decides to turn the tables on Raghav and teach him a lesson.                                                                                                                                                                                                                                                                                                                                                                                                                                                                                                                                                                                                                                                                                                                                                                                                                                                                                                                                                                                                                                                                                                                                                                                                                                                                                                                                                                                                                                                                                                                                                                                                                                                                                                                                                                                                                                                                                                                                                                                                                                                                                                                                                                                                                                                                                                                                                                                                                                                                                                                                                                                                                                                                                                                                                                                                                                                                                                                                                                                                                                                                                                                                                                                                                                                                                                                                                                                                                                                                                                                                                                                                                                                                                                                                                                                                                                                                                                                                                                                                                                                                                             \n",
       "1801  The Bowery Boys' landlady Mrs. Kelly believes in a theory proposed by Dr. Simon Noble that through hypnosis, one can regress into a former life, or lives, from the past. Sach is hypnotized and recounts stories from several past lives. Evidently Sach once lived as Algy Winkle, an English tax collector in Charleston, South Carolina. Winkle managed to get a map from the famous pirate Captain Blackbeard leading to buried treasure, which becomes the focal point of the story.                                                                                                                                                                                                                                                                                                                                                                                                                                                                                                                                                                                                                                                                                                                                                                                                                                                                                                                                                                                                                                                                                                                                                                                                                                                                                                                                                                                                                                                                                                                                                                                                                                                                                                                                                                                                                                                                                                                                                                                                                                                                                                                                                                                                                                                                                                                                                                                                                                                                                                                                                                                                                                                                                                                                                                                                                                                                                                                                                                                                                                                                                                                                                                                                                                                                                                                                                                                                                                                                                                                                                                                                                                                                                                                                                                                                                                                \n",
       "1764  Driving through Alabama in their 1964 Buick Skylark convertible, Billy Gambini and Stan Rothenstein, college students from New York who just got scholarships to UCLA, shop at a convenience store and accidentally shoplift a can of tuna. After they leave, the store clerk is robbed and killed, and Billy and Stan are arrested for the murder. Due to circumstantial evidence and a confession to the shoplifting that is misconstrued as one to the shooting, Billy is charged with murder, and Stan as an accessory. Billy's mother reminds him there is an attorney in the family: his cousin Vinny. Vincent LaGuardia Gambini travels there, accompanied by his fiancée, Mona Lisa Vito. Although he is willing to take the case, Vinny is a personal injury lawyer from Brooklyn, newly admitted to the bar, and with no trial experience.\\r\\nVinny manages to fool the trial judge, Chamberlain Haller, about being experienced enough for the case. His ignorance of basic courtroom procedures, dress code, and his abrasive attitude cause the judge to repeatedly hold him in contempt. Much to his clients' consternation, Vinny does not cross-examine any of the witnesses in the preliminary hearing. Except for lack of a murder weapon, it appears that the district attorney, Jim Trotter III, has a strong case that will lead to convictions. After Vinny's poor showing at the hearing, Stan fires him and uses the public defender, John Gibbons, and nearly convinces Billy to do the same.\\r\\nDespite his missteps, Vinny shows that he is able to make up for his inexperience with an aggressive and perceptive questioning style. Vinny quickly discredits the testimony of the first three witnesses, and Billy and Stan's faith is restored.\\r\\nOn the trial's third day, Trotter produces a surprise witness, FBI analyst George Wilbur, who testifies that the pattern and chemical analysis of the tire marks left at the crime scene are identical to the tires on Billy's Buick. With only the lunch recess to prepare his cross-examination and unable to come up with a strong line of questioning, Vinny lashes out at Lisa. However, Vinny realizes that one of Lisa's photos holds the key to the case: the flat and even tire marks going over the curb reveal that Billy's car could not have been used for the getaway.\\r\\nAfter requesting a records search from the local sheriff, Vinny drags Lisa into court to testify as an expert witness. During Vinny's questioning, Lisa testifies that only a car with an independent rear suspension and positraction could have made the tire marks, which rules out Billy's 1964 Buick Skylark. However, one model of car with these features is the similar-looking 1963 Pontiac Tempest. Vinny re-calls George Wilbur, who confirms this. Vinny then re-calls the local sheriff, who testifies that two men who fit Billy and Stan's descriptions were just arrested in Georgia for driving a stolen green Pontiac Tempest, and were in possession of a gun of the same caliber used to kill the clerk. Trotter moves to dismiss all charges. The judge congratulates Vinny and, as they drive away, he and Lisa bicker about their wedding plans.                                                                                                                                                                                                                                                                                                                                                                                                                                                                                                                                                                                                                                                                                                                                                                                                                                                                                                                                                                                                                                                                                          \n",
       "\n",
       "      label   Genre                Title  \n",
       "1822  1      comedy  101 Dalmatians       \n",
       "1585  1      comedy  Demobbed             \n",
       "1861  1      comedy  Joke falls           \n",
       "1801  1      comedy  Hold That Hypnotist  \n",
       "1764  1      comedy  My Cousin Vinny      "
      ]
     },
     "metadata": {},
     "output_type": "display_data"
    }
   ],
   "source": [
    "print(\"Some labeled examples: \")\n",
    "display(df_dev[df_dev.label==DRAMA].sample(5))\n",
    "display(df_dev[df_dev.label==COMEDY].sample(5))"
   ]
  },
  {
   "cell_type": "markdown",
   "metadata": {},
   "source": [
    "## Writing Labeling Functions\n",
    "Time to write some labeling functions! Below is an example. Be sure to add your function to the list `lfs`"
   ]
  },
  {
   "cell_type": "code",
   "execution_count": 70,
   "metadata": {},
   "outputs": [],
   "source": [
    "lfs = []"
   ]
  },
  {
   "cell_type": "code",
   "execution_count": 50,
   "metadata": {},
   "outputs": [],
   "source": [
    "@labeling_function()\n",
    "def lf2(x):\n",
    "    return DRAMA if \"dying\" in x.text.lower() else ABSTAIN\n",
    "\n",
    "lfs.append(lf2)"
   ]
  },
  {
   "cell_type": "markdown",
   "metadata": {},
   "source": [
    "## Applying Functions\n",
    "This is how we obtain training labels, by training a model to combine the outputs of the noisy labeling functions.\n",
    "`L_train` and `L_dev` are matrices representing the label returned by each labeling function for each example in the training and development sets."
   ]
  },
  {
   "cell_type": "code",
   "execution_count": 73,
   "metadata": {},
   "outputs": [
    {
     "name": "stderr",
     "output_type": "stream",
     "text": [
      "100%|██████████| 8343/8343 [00:00<00:00, 28414.29it/s]\n",
      "100%|██████████| 500/500 [00:00<00:00, 23342.67it/s]\n"
     ]
    }
   ],
   "source": [
    "# Apply the LFs to the unlabeled training data, and the development data\n",
    "applier = PandasLFApplier(lfs)\n",
    "L_train = applier.apply(df_train)\n",
    "L_dev = applier.apply(df_dev)"
   ]
  },
  {
   "cell_type": "markdown",
   "metadata": {},
   "source": [
    "Train the snorkel model to combine these noisy labels."
   ]
  },
  {
   "cell_type": "code",
   "execution_count": 74,
   "metadata": {},
   "outputs": [],
   "source": [
    "# Train the label model and compute the training labels\n",
    "label_model = LabelModel(cardinality=2, verbose=True)\n",
    "label_model.fit(L_train, n_epochs=500, log_freq=50, seed=123)\n",
    "df_train[\"label\"] = label_model.predict(L=L_train, tie_break_policy=\"abstain\")"
   ]
  },
  {
   "cell_type": "markdown",
   "metadata": {},
   "source": [
    "## View Unlabeled Examples\n",
    "You can use these to brainstorm new labeling functions. You may try filtering or sorting them in other ways."
   ]
  },
  {
   "cell_type": "code",
   "execution_count": 79,
   "metadata": {},
   "outputs": [
    {
     "data": {
      "text/html": [
       "<div>\n",
       "<style scoped>\n",
       "    .dataframe tbody tr th:only-of-type {\n",
       "        vertical-align: middle;\n",
       "    }\n",
       "\n",
       "    .dataframe tbody tr th {\n",
       "        vertical-align: top;\n",
       "    }\n",
       "\n",
       "    .dataframe thead th {\n",
       "        text-align: right;\n",
       "    }\n",
       "</style>\n",
       "<table border=\"1\" class=\"dataframe\">\n",
       "  <thead>\n",
       "    <tr style=\"text-align: right;\">\n",
       "      <th></th>\n",
       "      <th>text</th>\n",
       "      <th>label</th>\n",
       "      <th>Genre</th>\n",
       "      <th>Title</th>\n",
       "    </tr>\n",
       "  </thead>\n",
       "  <tbody>\n",
       "    <tr>\n",
       "      <th>7968</th>\n",
       "      <td>Abner Peacock's beloved bird-watcher's magazine, The Peacock, is in financial crisis. Desperate to stay afloat, Abner takes on a new partner, Osborn Tremain (Edmond O'Brien), who has an agenda of his own: to publish a sexy gentleman's magazine. This he and his wife Evelyn (Maureen Arthur) can only do by taking over Abner's, since he himself has been convicted too often of sending obscene material through the mails.\\r\\nBefore the hapless bird-watcher can stop the Tremains, the first issue sells over 40 million copies and Abner becomes the unwilling spokesman for First Amendment rights. Swept up in adulation, the unwitting playboy quickly begins settling into the swinging bachelor lifestyle.</td>\n",
       "      <td>-1</td>\n",
       "      <td>comedy</td>\n",
       "      <td>The Love God?</td>\n",
       "    </tr>\n",
       "    <tr>\n",
       "      <th>10068</th>\n",
       "      <td>Thirteen-year-old Wei Minzhi arrives in Shuiquan village to substitute for the village's only teacher (Gao Enman) while he takes a month's leave to care for his ill mother. When Gao discovers that Wei does not have a high school education and has no special talents, he instructs her to teach by copying his texts onto the board and then making the students copy them into their notebooks; he also tells her not to use more than one piece of chalk per day, because the village is too poor to afford more. Before leaving, he explains to her that many students have recently left school to find work in the cities, and he offers her a 10 yuan bonus if all the students are still there when he returns.\\r\\nWhen Wei begins teaching, she has little rapport with the students: they shout and run around instead of copying their work, and the class troublemaker, Zhang Huike, insists that \"she's not a teacher, she's Wei Chunzhi's big sister!\" After putting the lesson on the board, Wei usually sits outside, guarding the door to make sure no students leave until they have finished their work. Early in the month, a sports recruiter comes to take one athletic girl, Ming Xinhong, to a special training school; unwilling to let any students leave, Wei hides Ming, and when the village mayor (Tian Zhenda) finds her, Wei chases after their car in a futile attempt to stop them.\\r\\nOne day, after trying to make the troublemaker Zhang apologize for bothering another student, Wei discovers that Zhang has left to go find work in the nearby city of Zhangjiakou. The village mayor is unwilling to give her money for a bus ticket to the city, so she resolves to earn the money herself, and recruits the remaining students to help. One girl suggests that they can make money by moving bricks in a nearby brickyard, and Wei begins giving the students mathematical exercises centered on finding out how much money they need to earn for the bus tickets, how many bricks they need to move, and how much time it will take. Through these exercises and working to earn money, her rapport with the class improves. After earning the money, she reaches the bus station but learns that the price is higher than she thought, and she cannot afford a ticket. Wei ends up walking most of the way to Zhangjiakou.\\r\\nIn the city, Wei finds the people that Zhang was supposed to be working with, only to discover that they had lost him at the train station days before. She forces another girl her age, Sun Zhimei, to help her look for Zhang at the train station, but they do not find him. Wei has no success finding Zhang through the public address system and \"missing person\" posters, so she goes to the local television station to broadcast a missing person notice. The receptionist (Feng Yuying) will not let her in without valid identification, though, and says the only way she can enter is with permission from the station manager, whom she describes as \"a man with glasses\". For the rest of the day, Wei stands by the station's only gate, stopping every man with glasses, but she does not find the station manager, and spends the night asleep on the street. The next day the station manager (Wu Wanlu) sees her at the gate again, through his window, and lets her in, scolding the receptionist for making her wait outside.\\r\\nAlthough Wei has no money to run an ad on TV, the station manager is interested in her story and decides to feature Wei in a talk show special about rural education. On the talk show, Wei is nervous and hardly says a word when the host (Li Fanfan) addresses her, but Zhang—who has been wandering the streets begging for food—sees the show. After Wei and Zhang are reunited, the station manager arranges to have them driven back to Shuiquan village, along with a truckload of school supplies and donations that viewers had sent in. Upon their return, they are greeted by the whole village. In the final scene, Wei presents the students with several boxes of colored chalk that were donated, and allows each student to write one character on the board. The film ends with a series of title cards that recount the actions of the characters after the film ends, and describe the problem of poverty in rural education in China.</td>\n",
       "      <td>-1</td>\n",
       "      <td>drama</td>\n",
       "      <td>Not One Less</td>\n",
       "    </tr>\n",
       "    <tr>\n",
       "      <th>5062</th>\n",
       "      <td>Andie Bradley (Johnson) is a gymnast whose ambition is to participate in the Olympics. When offered the opportunity to train with one of the leading coaches in the U.S., she gratefully accepts. This requires her to move to Seattle from Portland. When she attends her first session, she is scrutinized by the coach about her weight and feels the pressure to lose the pounds. At first she adopts a sensible diet, but it soon leads to bulimia. When she meets a fellow team member, Leslie (Tara Boger), she realizes there are ways around it. \"You can eat what you want, and not gain a pound.\" Andie continues with her diet, but once she cannot handle it she turns to purging methods.\\r\\nHer mom notices changes in her weight, while her boyfriend and best friend also notice changes in her attitude. Andie eventually comes out to her best friend, telling her that she sees the changes and can't stop her behavior. She faints twice, both during competitions, and goes to the hospital, after fainting the second time, where a doctor talk to her parents about her body problems. Her parents decide to move back home. Andie runs away to the gym, where she sees a new girl being given the same lecture about her weight that was given to her. She decides that she is not ready to go back to training. After moving back to Portland, Andie joins a support group where she is encouraged to eat as part of her therapy. At the end of the movie, she is seen walking into the school gymnasium and getting back on the balance beam.</td>\n",
       "      <td>-1</td>\n",
       "      <td>drama</td>\n",
       "      <td>Perfect Body</td>\n",
       "    </tr>\n",
       "    <tr>\n",
       "      <th>7533</th>\n",
       "      <td>Sam (Josh Gad) is a writer, working on a feature film. His girlfriend, Sammy (Kristen Ruhlin) has been promised the lead role, but the producers want a famous actress. After some problems and the return of Sammy's ex-boyfriend, John (Johnny Messner), the relationship get complicated and they break up. Sam needs to deal with John, who became his friend and roommate, the lack of inspiration to write the film, the new single life and a new girl (Melonie Diaz) who had sex with many men. Although all he wanted was Sammy back.[2]</td>\n",
       "      <td>-1</td>\n",
       "      <td>comedy</td>\n",
       "      <td>She Wants Me</td>\n",
       "    </tr>\n",
       "    <tr>\n",
       "      <th>5012</th>\n",
       "      <td>Tess McGill is an American working-class stockbroker's secretary from Staten Island with a bachelor's degree in Business from evening classes. She works in the mergers and acquisitions department of a Wall Street investment bank. Tess aspires to reach an executive position. Tricked by her boss into a date with his lascivious cocaine snorting colleague, she gets into trouble by publicly insulting him and is reassigned as secretary to a new financial executive, Katharine Parker. Seemingly supportive, Katharine encourages Tess to share ideas. Tess suggests that a client, Trask Industries, should invest in radio to gain a foothold in media. Katharine listens to the idea and says she'll pass it through some people. Later, she says the idea wasn't well received. But when Katharine breaks her leg skiing in Europe, she asks Tess to house-sit. While at Katharine's place, Tess discovers some meeting notes where Katharine plans to pass off the merger idea as her own. At home, Tess finds her boyfriend Mick Dugan in bed with another woman. Disillusioned, she returns to Katharine's apartment and begins her transformation.\\r\\nTess uses her boss's absence and connections, including her errant beau, executive Jack Trainer, to put forward her own idea for a merger deal. She sets up a meeting with Trainer, using her boss's name as an entrée. She wants to see Trainer the evening before the meeting at a party, which she will attend in a dress of Katharine's. Before the party, when Tess suffers a panic attack, her friend Cynthia gives her a valium from Katharine's bathroom. At the party, Tess unknowingly meets Jack, who is fascinated by her. They have a couple of drinks, and the combined effect of valium and alcohol lead to her waking next morning in Jack's bed. She leaves before he wakes and, entering the meeting, realizes Jack Trainer is the man she had spent the night with. She feels the pitch goes badly. Back at her desk, she is mortified about the night before, but Jack comes in and says they are happy with Tess's idea. Days later, Tess and Jack gatecrash Trask's daughter's wedding and pitch their plan. Trask is interested, and a meeting is set up. Later, Tess and Jack end up in bed together. Tess wants to explain her true situation but keeps quiet after learning Jack has been in a relationship with Katharine, which he says is all but over.\\r\\nKatharine comes home on the day of the meeting with Trask. Tess overhears Katharine asking Jack to confirm his love for her, but he avoids answering and hurries out. Tess also rushes off, leaving her appointment book, which Katharine reads. The meeting goes well until Katharine storms in, accusing Tess, a mere secretary, of having stolen her idea. Tess protests but leaves, apologizing. Days later, Tess clears out her desk and then bumps into Jack, Katharine, and Trask in front of the lobby elevators. Tess confronts Katharine and starts to tell everyone her side of the story. Katharine tries to lead the group away, but Jack says he believes Tess. When Trask hears a convincing tidbit, he hops off the closing elevator, leaving Katharine still in the lift. Trask gets on another elevator with Jack and Tess, where Tess then gives her elevator pitch to Trask, telling him the roundabout way in which she came up with the idea for the merger. When they get to their office floor, Trask confronts Katharine, asking her how she came up with the idea. She stumbles and balks and can't really explain where the idea came from. Katharine is fired on the spot for her fraud, and Trask offers Tess an \"entry-level\" job with his company.\\r\\nTess starts her new job, armed with a lunchbox prepared by Jack. Directed to an office, she sees a woman on the phone, assumes she is her new boss, and seats herself in the typing pool. The woman identifies herself as Alice and reveals that she is, in fact, Tess’s secretary and that Tess is the new junior executive for whom she is working. Tess insists they work together as colleagues, showing she will be very different from Katharine. She then calls Cynthia from her office overlooking Manhattan to say she's landed her dream job.</td>\n",
       "      <td>-1</td>\n",
       "      <td>comedy</td>\n",
       "      <td>Working Girl</td>\n",
       "    </tr>\n",
       "  </tbody>\n",
       "</table>\n",
       "</div>"
      ],
      "text/plain": [
       "                                                                                                                                                                                                                                                                                                                                                                                                                                                                                                                                                                                                                                                                                                                                                                                                                                                                                                                                                                                                                                                                                                                                                                                                                                                                                                                                                                                                                                                                                                                                                                                                                                                                                                                                                                                                                                                                                                                                                                                                                                                                                                                                                                                                                                                                                                                                                                                                                                                                                                                                                                                                                                                                                                                                                                                                                                                                                                                                                                                                                                                                                                                                                                                                                                                                                                                                                                                                                                                                                                                                                                                                                                                                                                                                                                                                                                                                                                                                                                                                                                                                                                                                                                                                                                                                                                                                                                                                   text  \\\n",
       "7968   Abner Peacock's beloved bird-watcher's magazine, The Peacock, is in financial crisis. Desperate to stay afloat, Abner takes on a new partner, Osborn Tremain (Edmond O'Brien), who has an agenda of his own: to publish a sexy gentleman's magazine. This he and his wife Evelyn (Maureen Arthur) can only do by taking over Abner's, since he himself has been convicted too often of sending obscene material through the mails.\\r\\nBefore the hapless bird-watcher can stop the Tremains, the first issue sells over 40 million copies and Abner becomes the unwilling spokesman for First Amendment rights. Swept up in adulation, the unwitting playboy quickly begins settling into the swinging bachelor lifestyle.                                                                                                                                                                                                                                                                                                                                                                                                                                                                                                                                                                                                                                                                                                                                                                                                                                                                                                                                                                                                                                                                                                                                                                                                                                                                                                                                                                                                                                                                                                                                                                                                                                                                                                                                                                                                                                                                                                                                                                                                                                                                                                                                                                                                                                                                                                                                                                                                                                                                                                                                                                                                                                                                                                                                                                                                                                                                                                                                                                                                                                                                                                                                                                                                                                                                                                                                                                                                                                                                                                                                                                                                                                                                         \n",
       "10068  Thirteen-year-old Wei Minzhi arrives in Shuiquan village to substitute for the village's only teacher (Gao Enman) while he takes a month's leave to care for his ill mother. When Gao discovers that Wei does not have a high school education and has no special talents, he instructs her to teach by copying his texts onto the board and then making the students copy them into their notebooks; he also tells her not to use more than one piece of chalk per day, because the village is too poor to afford more. Before leaving, he explains to her that many students have recently left school to find work in the cities, and he offers her a 10 yuan bonus if all the students are still there when he returns.\\r\\nWhen Wei begins teaching, she has little rapport with the students: they shout and run around instead of copying their work, and the class troublemaker, Zhang Huike, insists that \"she's not a teacher, she's Wei Chunzhi's big sister!\" After putting the lesson on the board, Wei usually sits outside, guarding the door to make sure no students leave until they have finished their work. Early in the month, a sports recruiter comes to take one athletic girl, Ming Xinhong, to a special training school; unwilling to let any students leave, Wei hides Ming, and when the village mayor (Tian Zhenda) finds her, Wei chases after their car in a futile attempt to stop them.\\r\\nOne day, after trying to make the troublemaker Zhang apologize for bothering another student, Wei discovers that Zhang has left to go find work in the nearby city of Zhangjiakou. The village mayor is unwilling to give her money for a bus ticket to the city, so she resolves to earn the money herself, and recruits the remaining students to help. One girl suggests that they can make money by moving bricks in a nearby brickyard, and Wei begins giving the students mathematical exercises centered on finding out how much money they need to earn for the bus tickets, how many bricks they need to move, and how much time it will take. Through these exercises and working to earn money, her rapport with the class improves. After earning the money, she reaches the bus station but learns that the price is higher than she thought, and she cannot afford a ticket. Wei ends up walking most of the way to Zhangjiakou.\\r\\nIn the city, Wei finds the people that Zhang was supposed to be working with, only to discover that they had lost him at the train station days before. She forces another girl her age, Sun Zhimei, to help her look for Zhang at the train station, but they do not find him. Wei has no success finding Zhang through the public address system and \"missing person\" posters, so she goes to the local television station to broadcast a missing person notice. The receptionist (Feng Yuying) will not let her in without valid identification, though, and says the only way she can enter is with permission from the station manager, whom she describes as \"a man with glasses\". For the rest of the day, Wei stands by the station's only gate, stopping every man with glasses, but she does not find the station manager, and spends the night asleep on the street. The next day the station manager (Wu Wanlu) sees her at the gate again, through his window, and lets her in, scolding the receptionist for making her wait outside.\\r\\nAlthough Wei has no money to run an ad on TV, the station manager is interested in her story and decides to feature Wei in a talk show special about rural education. On the talk show, Wei is nervous and hardly says a word when the host (Li Fanfan) addresses her, but Zhang—who has been wandering the streets begging for food—sees the show. After Wei and Zhang are reunited, the station manager arranges to have them driven back to Shuiquan village, along with a truckload of school supplies and donations that viewers had sent in. Upon their return, they are greeted by the whole village. In the final scene, Wei presents the students with several boxes of colored chalk that were donated, and allows each student to write one character on the board. The film ends with a series of title cards that recount the actions of the characters after the film ends, and describe the problem of poverty in rural education in China.   \n",
       "5062   Andie Bradley (Johnson) is a gymnast whose ambition is to participate in the Olympics. When offered the opportunity to train with one of the leading coaches in the U.S., she gratefully accepts. This requires her to move to Seattle from Portland. When she attends her first session, she is scrutinized by the coach about her weight and feels the pressure to lose the pounds. At first she adopts a sensible diet, but it soon leads to bulimia. When she meets a fellow team member, Leslie (Tara Boger), she realizes there are ways around it. \"You can eat what you want, and not gain a pound.\" Andie continues with her diet, but once she cannot handle it she turns to purging methods.\\r\\nHer mom notices changes in her weight, while her boyfriend and best friend also notice changes in her attitude. Andie eventually comes out to her best friend, telling her that she sees the changes and can't stop her behavior. She faints twice, both during competitions, and goes to the hospital, after fainting the second time, where a doctor talk to her parents about her body problems. Her parents decide to move back home. Andie runs away to the gym, where she sees a new girl being given the same lecture about her weight that was given to her. She decides that she is not ready to go back to training. After moving back to Portland, Andie joins a support group where she is encouraged to eat as part of her therapy. At the end of the movie, she is seen walking into the school gymnasium and getting back on the balance beam.                                                                                                                                                                                                                                                                                                                                                                                                                                                                                                                                                                                                                                                                                                                                                                                                                                                                                                                                                                                                                                                                                                                                                                                                                                                                                                                                                                                                                                                                                                                                                                                                                                                                                                                                                                                                                                                                                                                                                                                                                                                                                                                                                                                                                                                                                                                                                                                                                                                                                                                                                                                                                                                                                                                                                                                                                           \n",
       "7533   Sam (Josh Gad) is a writer, working on a feature film. His girlfriend, Sammy (Kristen Ruhlin) has been promised the lead role, but the producers want a famous actress. After some problems and the return of Sammy's ex-boyfriend, John (Johnny Messner), the relationship get complicated and they break up. Sam needs to deal with John, who became his friend and roommate, the lack of inspiration to write the film, the new single life and a new girl (Melonie Diaz) who had sex with many men. Although all he wanted was Sammy back.[2]                                                                                                                                                                                                                                                                                                                                                                                                                                                                                                                                                                                                                                                                                                                                                                                                                                                                                                                                                                                                                                                                                                                                                                                                                                                                                                                                                                                                                                                                                                                                                                                                                                                                                                                                                                                                                                                                                                                                                                                                                                                                                                                                                                                                                                                                                                                                                                                                                                                                                                                                                                                                                                                                                                                                                                                                                                                                                                                                                                                                                                                                                                                                                                                                                                                                                                                                                                                                                                                                                                                                                                                                                                                                                                                                                                                                                                                  \n",
       "5012   Tess McGill is an American working-class stockbroker's secretary from Staten Island with a bachelor's degree in Business from evening classes. She works in the mergers and acquisitions department of a Wall Street investment bank. Tess aspires to reach an executive position. Tricked by her boss into a date with his lascivious cocaine snorting colleague, she gets into trouble by publicly insulting him and is reassigned as secretary to a new financial executive, Katharine Parker. Seemingly supportive, Katharine encourages Tess to share ideas. Tess suggests that a client, Trask Industries, should invest in radio to gain a foothold in media. Katharine listens to the idea and says she'll pass it through some people. Later, she says the idea wasn't well received. But when Katharine breaks her leg skiing in Europe, she asks Tess to house-sit. While at Katharine's place, Tess discovers some meeting notes where Katharine plans to pass off the merger idea as her own. At home, Tess finds her boyfriend Mick Dugan in bed with another woman. Disillusioned, she returns to Katharine's apartment and begins her transformation.\\r\\nTess uses her boss's absence and connections, including her errant beau, executive Jack Trainer, to put forward her own idea for a merger deal. She sets up a meeting with Trainer, using her boss's name as an entrée. She wants to see Trainer the evening before the meeting at a party, which she will attend in a dress of Katharine's. Before the party, when Tess suffers a panic attack, her friend Cynthia gives her a valium from Katharine's bathroom. At the party, Tess unknowingly meets Jack, who is fascinated by her. They have a couple of drinks, and the combined effect of valium and alcohol lead to her waking next morning in Jack's bed. She leaves before he wakes and, entering the meeting, realizes Jack Trainer is the man she had spent the night with. She feels the pitch goes badly. Back at her desk, she is mortified about the night before, but Jack comes in and says they are happy with Tess's idea. Days later, Tess and Jack gatecrash Trask's daughter's wedding and pitch their plan. Trask is interested, and a meeting is set up. Later, Tess and Jack end up in bed together. Tess wants to explain her true situation but keeps quiet after learning Jack has been in a relationship with Katharine, which he says is all but over.\\r\\nKatharine comes home on the day of the meeting with Trask. Tess overhears Katharine asking Jack to confirm his love for her, but he avoids answering and hurries out. Tess also rushes off, leaving her appointment book, which Katharine reads. The meeting goes well until Katharine storms in, accusing Tess, a mere secretary, of having stolen her idea. Tess protests but leaves, apologizing. Days later, Tess clears out her desk and then bumps into Jack, Katharine, and Trask in front of the lobby elevators. Tess confronts Katharine and starts to tell everyone her side of the story. Katharine tries to lead the group away, but Jack says he believes Tess. When Trask hears a convincing tidbit, he hops off the closing elevator, leaving Katharine still in the lift. Trask gets on another elevator with Jack and Tess, where Tess then gives her elevator pitch to Trask, telling him the roundabout way in which she came up with the idea for the merger. When they get to their office floor, Trask confronts Katharine, asking her how she came up with the idea. She stumbles and balks and can't really explain where the idea came from. Katharine is fired on the spot for her fraud, and Trask offers Tess an \"entry-level\" job with his company.\\r\\nTess starts her new job, armed with a lunchbox prepared by Jack. Directed to an office, she sees a woman on the phone, assumes she is her new boss, and seats herself in the typing pool. The woman identifies herself as Alice and reveals that she is, in fact, Tess’s secretary and that Tess is the new junior executive for whom she is working. Tess insists they work together as colleagues, showing she will be very different from Katharine. She then calls Cynthia from her office overlooking Manhattan to say she's landed her dream job.                                                                                      \n",
       "\n",
       "       label   Genre          Title  \n",
       "7968  -1      comedy  The Love God?  \n",
       "10068 -1      drama   Not One Less   \n",
       "5062  -1      drama   Perfect Body   \n",
       "7533  -1      comedy  She Wants Me   \n",
       "5012  -1      comedy  Working Girl   "
      ]
     },
     "metadata": {},
     "output_type": "display_data"
    }
   ],
   "source": [
    "# You can filter for unlabeled data\n",
    "df_unlabeled = df_train[df_train.label == ABSTAIN]\n",
    "display(df_unlabeled.sample(5))"
   ]
  },
  {
   "cell_type": "markdown",
   "metadata": {},
   "source": [
    "## Analyze Results\n",
    "Evaluate the accuracy of the estimated training labels and development set labels (based on ground truth)."
   ]
  },
  {
   "cell_type": "code",
   "execution_count": 75,
   "metadata": {},
   "outputs": [
    {
     "data": {
      "text/plain": [
       "'Training set results:'"
      ]
     },
     "metadata": {},
     "output_type": "display_data"
    },
    {
     "data": {
      "text/html": [
       "<div>\n",
       "<style scoped>\n",
       "    .dataframe tbody tr th:only-of-type {\n",
       "        vertical-align: middle;\n",
       "    }\n",
       "\n",
       "    .dataframe tbody tr th {\n",
       "        vertical-align: top;\n",
       "    }\n",
       "\n",
       "    .dataframe thead th {\n",
       "        text-align: right;\n",
       "    }\n",
       "</style>\n",
       "<table border=\"1\" class=\"dataframe\">\n",
       "  <thead>\n",
       "    <tr style=\"text-align: right;\">\n",
       "      <th></th>\n",
       "      <th>j</th>\n",
       "      <th>Polarity</th>\n",
       "      <th>Coverage</th>\n",
       "      <th>Overlaps</th>\n",
       "      <th>Conflicts</th>\n",
       "      <th>Correct</th>\n",
       "      <th>Incorrect</th>\n",
       "      <th>Emp. Acc.</th>\n",
       "    </tr>\n",
       "  </thead>\n",
       "  <tbody>\n",
       "    <tr>\n",
       "      <th>my_first_labeling_function</th>\n",
       "      <td>0</td>\n",
       "      <td>[0]</td>\n",
       "      <td>0.109673</td>\n",
       "      <td>0.0</td>\n",
       "      <td>0.0</td>\n",
       "      <td>915</td>\n",
       "      <td>0</td>\n",
       "      <td>1.0</td>\n",
       "    </tr>\n",
       "  </tbody>\n",
       "</table>\n",
       "</div>"
      ],
      "text/plain": [
       "                            j Polarity  Coverage  Overlaps  Conflicts  \\\n",
       "my_first_labeling_function  0  [0]      0.109673  0.0       0.0         \n",
       "\n",
       "                            Correct  Incorrect  Emp. Acc.  \n",
       "my_first_labeling_function  915      0          1.0        "
      ]
     },
     "metadata": {},
     "output_type": "display_data"
    }
   ],
   "source": [
    "Y_train = df_train.label.values\n",
    "train_analysis = LFAnalysis(L=L_train, lfs=lfs).lf_summary(Y=Y_train)\n",
    "display(\"Training set results:\", train_analysis)"
   ]
  },
  {
   "cell_type": "code",
   "execution_count": 76,
   "metadata": {},
   "outputs": [
    {
     "data": {
      "text/plain": [
       "'Dev set results:'"
      ]
     },
     "metadata": {},
     "output_type": "display_data"
    },
    {
     "data": {
      "text/html": [
       "<div>\n",
       "<style scoped>\n",
       "    .dataframe tbody tr th:only-of-type {\n",
       "        vertical-align: middle;\n",
       "    }\n",
       "\n",
       "    .dataframe tbody tr th {\n",
       "        vertical-align: top;\n",
       "    }\n",
       "\n",
       "    .dataframe thead th {\n",
       "        text-align: right;\n",
       "    }\n",
       "</style>\n",
       "<table border=\"1\" class=\"dataframe\">\n",
       "  <thead>\n",
       "    <tr style=\"text-align: right;\">\n",
       "      <th></th>\n",
       "      <th>j</th>\n",
       "      <th>Polarity</th>\n",
       "      <th>Coverage</th>\n",
       "      <th>Overlaps</th>\n",
       "      <th>Conflicts</th>\n",
       "      <th>Correct</th>\n",
       "      <th>Incorrect</th>\n",
       "      <th>Emp. Acc.</th>\n",
       "    </tr>\n",
       "  </thead>\n",
       "  <tbody>\n",
       "    <tr>\n",
       "      <th>my_first_labeling_function</th>\n",
       "      <td>0</td>\n",
       "      <td>[0]</td>\n",
       "      <td>0.124</td>\n",
       "      <td>0.0</td>\n",
       "      <td>0.0</td>\n",
       "      <td>40</td>\n",
       "      <td>22</td>\n",
       "      <td>0.645161</td>\n",
       "    </tr>\n",
       "  </tbody>\n",
       "</table>\n",
       "</div>"
      ],
      "text/plain": [
       "                            j Polarity  Coverage  Overlaps  Conflicts  \\\n",
       "my_first_labeling_function  0  [0]      0.124     0.0       0.0         \n",
       "\n",
       "                            Correct  Incorrect  Emp. Acc.  \n",
       "my_first_labeling_function  40       22         0.645161   "
      ]
     },
     "metadata": {},
     "output_type": "display_data"
    }
   ],
   "source": [
    "Y_dev = df_dev.label.values\n",
    "dev_analysis = LFAnalysis(L=L_dev, lfs=lfs).lf_summary(Y=Y_dev)\n",
    "display(\"Dev set results:\", dev_analysis)"
   ]
  },
  {
   "cell_type": "markdown",
   "metadata": {},
   "source": [
    "## Train Model\n",
    "Lastly, train a simple bag of words model on these labels, and report test accuracy.\n",
    "\n",
    "(This step may take a while)."
   ]
  },
  {
   "cell_type": "code",
   "execution_count": null,
   "metadata": {},
   "outputs": [],
   "source": [
    "train_model(label_model, df_train, df_valid, df_test, L_train)"
   ]
  },
  {
   "cell_type": "code",
   "execution_count": null,
   "metadata": {},
   "outputs": [],
   "source": []
  }
 ],
 "metadata": {
  "kernelspec": {
   "display_name": "Python 3",
   "language": "python",
   "name": "python3"
  },
  "language_info": {
   "codemirror_mode": {
    "name": "ipython",
    "version": 3
   },
   "file_extension": ".py",
   "mimetype": "text/x-python",
   "name": "python",
   "nbconvert_exporter": "python",
   "pygments_lexer": "ipython3",
   "version": "3.6.5"
  }
 },
 "nbformat": 4,
 "nbformat_minor": 2
}
